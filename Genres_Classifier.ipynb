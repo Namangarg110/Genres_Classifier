{
 "cells": [
  {
   "cell_type": "code",
   "execution_count": 1,
   "metadata": {},
   "outputs": [],
   "source": [
    "import pandas as pd\n",
    "import numpy as np\n",
    "from sklearn.metrics import accuracy_score\n",
    "from sklearn.model_selection import train_test_split\n",
    "from sklearn.tree import DecisionTreeClassifier"
   ]
  },
  {
   "cell_type": "code",
   "execution_count": 2,
   "metadata": {},
   "outputs": [],
   "source": [
    "tracks =pd.read_csv(\"datasets/fma-rock-vs-hiphop.csv\")"
   ]
  },
  {
   "cell_type": "code",
   "execution_count": 3,
   "metadata": {},
   "outputs": [],
   "source": [
    "echonest_metrics = pd.read_json(\"datasets/echonest-metrics.json\", precise_float=True)\n"
   ]
  },
  {
   "cell_type": "code",
   "execution_count": 4,
   "metadata": {},
   "outputs": [
    {
     "data": {
      "text/html": [
       "<div>\n",
       "<style scoped>\n",
       "    .dataframe tbody tr th:only-of-type {\n",
       "        vertical-align: middle;\n",
       "    }\n",
       "\n",
       "    .dataframe tbody tr th {\n",
       "        vertical-align: top;\n",
       "    }\n",
       "\n",
       "    .dataframe thead th {\n",
       "        text-align: right;\n",
       "    }\n",
       "</style>\n",
       "<table border=\"1\" class=\"dataframe\">\n",
       "  <thead>\n",
       "    <tr style=\"text-align: right;\">\n",
       "      <th></th>\n",
       "      <th>track_id</th>\n",
       "      <th>acousticness</th>\n",
       "      <th>danceability</th>\n",
       "      <th>energy</th>\n",
       "      <th>instrumentalness</th>\n",
       "      <th>liveness</th>\n",
       "      <th>speechiness</th>\n",
       "      <th>tempo</th>\n",
       "      <th>valence</th>\n",
       "    </tr>\n",
       "  </thead>\n",
       "  <tbody>\n",
       "    <tr>\n",
       "      <th>0</th>\n",
       "      <td>2</td>\n",
       "      <td>0.416675</td>\n",
       "      <td>0.675894</td>\n",
       "      <td>0.634476</td>\n",
       "      <td>0.010628</td>\n",
       "      <td>0.177647</td>\n",
       "      <td>0.159310</td>\n",
       "      <td>165.922</td>\n",
       "      <td>0.576661</td>\n",
       "    </tr>\n",
       "    <tr>\n",
       "      <th>1</th>\n",
       "      <td>3</td>\n",
       "      <td>0.374408</td>\n",
       "      <td>0.528643</td>\n",
       "      <td>0.817461</td>\n",
       "      <td>0.001851</td>\n",
       "      <td>0.105880</td>\n",
       "      <td>0.461818</td>\n",
       "      <td>126.957</td>\n",
       "      <td>0.269240</td>\n",
       "    </tr>\n",
       "    <tr>\n",
       "      <th>2</th>\n",
       "      <td>5</td>\n",
       "      <td>0.043567</td>\n",
       "      <td>0.745566</td>\n",
       "      <td>0.701470</td>\n",
       "      <td>0.000697</td>\n",
       "      <td>0.373143</td>\n",
       "      <td>0.124595</td>\n",
       "      <td>100.260</td>\n",
       "      <td>0.621661</td>\n",
       "    </tr>\n",
       "    <tr>\n",
       "      <th>3</th>\n",
       "      <td>10</td>\n",
       "      <td>0.951670</td>\n",
       "      <td>0.658179</td>\n",
       "      <td>0.924525</td>\n",
       "      <td>0.965427</td>\n",
       "      <td>0.115474</td>\n",
       "      <td>0.032985</td>\n",
       "      <td>111.562</td>\n",
       "      <td>0.963590</td>\n",
       "    </tr>\n",
       "    <tr>\n",
       "      <th>4</th>\n",
       "      <td>134</td>\n",
       "      <td>0.452217</td>\n",
       "      <td>0.513238</td>\n",
       "      <td>0.560410</td>\n",
       "      <td>0.019443</td>\n",
       "      <td>0.096567</td>\n",
       "      <td>0.525519</td>\n",
       "      <td>114.290</td>\n",
       "      <td>0.894072</td>\n",
       "    </tr>\n",
       "    <tr>\n",
       "      <th>...</th>\n",
       "      <td>...</td>\n",
       "      <td>...</td>\n",
       "      <td>...</td>\n",
       "      <td>...</td>\n",
       "      <td>...</td>\n",
       "      <td>...</td>\n",
       "      <td>...</td>\n",
       "      <td>...</td>\n",
       "      <td>...</td>\n",
       "    </tr>\n",
       "    <tr>\n",
       "      <th>13124</th>\n",
       "      <td>124857</td>\n",
       "      <td>0.007592</td>\n",
       "      <td>0.790364</td>\n",
       "      <td>0.719288</td>\n",
       "      <td>0.853114</td>\n",
       "      <td>0.720715</td>\n",
       "      <td>0.082550</td>\n",
       "      <td>141.332</td>\n",
       "      <td>0.890461</td>\n",
       "    </tr>\n",
       "    <tr>\n",
       "      <th>13125</th>\n",
       "      <td>124862</td>\n",
       "      <td>0.041498</td>\n",
       "      <td>0.843077</td>\n",
       "      <td>0.536496</td>\n",
       "      <td>0.865151</td>\n",
       "      <td>0.547949</td>\n",
       "      <td>0.074001</td>\n",
       "      <td>101.975</td>\n",
       "      <td>0.476845</td>\n",
       "    </tr>\n",
       "    <tr>\n",
       "      <th>13126</th>\n",
       "      <td>124863</td>\n",
       "      <td>0.000124</td>\n",
       "      <td>0.609686</td>\n",
       "      <td>0.895136</td>\n",
       "      <td>0.846624</td>\n",
       "      <td>0.632903</td>\n",
       "      <td>0.051517</td>\n",
       "      <td>129.996</td>\n",
       "      <td>0.496667</td>\n",
       "    </tr>\n",
       "    <tr>\n",
       "      <th>13127</th>\n",
       "      <td>124864</td>\n",
       "      <td>0.327576</td>\n",
       "      <td>0.574426</td>\n",
       "      <td>0.548327</td>\n",
       "      <td>0.452867</td>\n",
       "      <td>0.075928</td>\n",
       "      <td>0.033388</td>\n",
       "      <td>142.009</td>\n",
       "      <td>0.569274</td>\n",
       "    </tr>\n",
       "    <tr>\n",
       "      <th>13128</th>\n",
       "      <td>124911</td>\n",
       "      <td>0.993606</td>\n",
       "      <td>0.499339</td>\n",
       "      <td>0.050622</td>\n",
       "      <td>0.945677</td>\n",
       "      <td>0.095965</td>\n",
       "      <td>0.065189</td>\n",
       "      <td>119.965</td>\n",
       "      <td>0.204652</td>\n",
       "    </tr>\n",
       "  </tbody>\n",
       "</table>\n",
       "<p>13129 rows × 9 columns</p>\n",
       "</div>"
      ],
      "text/plain": [
       "       track_id  acousticness  danceability    energy  instrumentalness  \\\n",
       "0             2      0.416675      0.675894  0.634476          0.010628   \n",
       "1             3      0.374408      0.528643  0.817461          0.001851   \n",
       "2             5      0.043567      0.745566  0.701470          0.000697   \n",
       "3            10      0.951670      0.658179  0.924525          0.965427   \n",
       "4           134      0.452217      0.513238  0.560410          0.019443   \n",
       "...         ...           ...           ...       ...               ...   \n",
       "13124    124857      0.007592      0.790364  0.719288          0.853114   \n",
       "13125    124862      0.041498      0.843077  0.536496          0.865151   \n",
       "13126    124863      0.000124      0.609686  0.895136          0.846624   \n",
       "13127    124864      0.327576      0.574426  0.548327          0.452867   \n",
       "13128    124911      0.993606      0.499339  0.050622          0.945677   \n",
       "\n",
       "       liveness  speechiness    tempo   valence  \n",
       "0      0.177647     0.159310  165.922  0.576661  \n",
       "1      0.105880     0.461818  126.957  0.269240  \n",
       "2      0.373143     0.124595  100.260  0.621661  \n",
       "3      0.115474     0.032985  111.562  0.963590  \n",
       "4      0.096567     0.525519  114.290  0.894072  \n",
       "...         ...          ...      ...       ...  \n",
       "13124  0.720715     0.082550  141.332  0.890461  \n",
       "13125  0.547949     0.074001  101.975  0.476845  \n",
       "13126  0.632903     0.051517  129.996  0.496667  \n",
       "13127  0.075928     0.033388  142.009  0.569274  \n",
       "13128  0.095965     0.065189  119.965  0.204652  \n",
       "\n",
       "[13129 rows x 9 columns]"
      ]
     },
     "execution_count": 4,
     "metadata": {},
     "output_type": "execute_result"
    }
   ],
   "source": [
    "echonest_metrics"
   ]
  },
  {
   "cell_type": "code",
   "execution_count": 5,
   "metadata": {},
   "outputs": [
    {
     "data": {
      "text/html": [
       "<div>\n",
       "<style scoped>\n",
       "    .dataframe tbody tr th:only-of-type {\n",
       "        vertical-align: middle;\n",
       "    }\n",
       "\n",
       "    .dataframe tbody tr th {\n",
       "        vertical-align: top;\n",
       "    }\n",
       "\n",
       "    .dataframe thead th {\n",
       "        text-align: right;\n",
       "    }\n",
       "</style>\n",
       "<table border=\"1\" class=\"dataframe\">\n",
       "  <thead>\n",
       "    <tr style=\"text-align: right;\">\n",
       "      <th></th>\n",
       "      <th>track_id</th>\n",
       "      <th>bit_rate</th>\n",
       "      <th>comments</th>\n",
       "      <th>composer</th>\n",
       "      <th>date_created</th>\n",
       "      <th>date_recorded</th>\n",
       "      <th>duration</th>\n",
       "      <th>favorites</th>\n",
       "      <th>genre_top</th>\n",
       "      <th>genres</th>\n",
       "      <th>...</th>\n",
       "      <th>information</th>\n",
       "      <th>interest</th>\n",
       "      <th>language_code</th>\n",
       "      <th>license</th>\n",
       "      <th>listens</th>\n",
       "      <th>lyricist</th>\n",
       "      <th>number</th>\n",
       "      <th>publisher</th>\n",
       "      <th>tags</th>\n",
       "      <th>title</th>\n",
       "    </tr>\n",
       "  </thead>\n",
       "  <tbody>\n",
       "    <tr>\n",
       "      <th>0</th>\n",
       "      <td>135</td>\n",
       "      <td>256000</td>\n",
       "      <td>1</td>\n",
       "      <td>NaN</td>\n",
       "      <td>2008-11-26 01:43:26</td>\n",
       "      <td>2008-11-26 00:00:00</td>\n",
       "      <td>837</td>\n",
       "      <td>0</td>\n",
       "      <td>Rock</td>\n",
       "      <td>[45, 58]</td>\n",
       "      <td>...</td>\n",
       "      <td>NaN</td>\n",
       "      <td>2484</td>\n",
       "      <td>en</td>\n",
       "      <td>Attribution-NonCommercial-ShareAlike 3.0 Inter...</td>\n",
       "      <td>1832</td>\n",
       "      <td>NaN</td>\n",
       "      <td>0</td>\n",
       "      <td>NaN</td>\n",
       "      <td>[]</td>\n",
       "      <td>Father's Day</td>\n",
       "    </tr>\n",
       "    <tr>\n",
       "      <th>1</th>\n",
       "      <td>136</td>\n",
       "      <td>256000</td>\n",
       "      <td>1</td>\n",
       "      <td>NaN</td>\n",
       "      <td>2008-11-26 01:43:35</td>\n",
       "      <td>2008-11-26 00:00:00</td>\n",
       "      <td>509</td>\n",
       "      <td>0</td>\n",
       "      <td>Rock</td>\n",
       "      <td>[45, 58]</td>\n",
       "      <td>...</td>\n",
       "      <td>NaN</td>\n",
       "      <td>1948</td>\n",
       "      <td>en</td>\n",
       "      <td>Attribution-NonCommercial-ShareAlike 3.0 Inter...</td>\n",
       "      <td>1498</td>\n",
       "      <td>NaN</td>\n",
       "      <td>0</td>\n",
       "      <td>NaN</td>\n",
       "      <td>[]</td>\n",
       "      <td>Peel Back The Mountain Sky</td>\n",
       "    </tr>\n",
       "    <tr>\n",
       "      <th>2</th>\n",
       "      <td>151</td>\n",
       "      <td>192000</td>\n",
       "      <td>0</td>\n",
       "      <td>NaN</td>\n",
       "      <td>2008-11-26 01:44:55</td>\n",
       "      <td>NaN</td>\n",
       "      <td>192</td>\n",
       "      <td>0</td>\n",
       "      <td>Rock</td>\n",
       "      <td>[25]</td>\n",
       "      <td>...</td>\n",
       "      <td>NaN</td>\n",
       "      <td>701</td>\n",
       "      <td>en</td>\n",
       "      <td>Attribution-NonCommercial-ShareAlike 3.0 Inter...</td>\n",
       "      <td>148</td>\n",
       "      <td>NaN</td>\n",
       "      <td>4</td>\n",
       "      <td>NaN</td>\n",
       "      <td>[]</td>\n",
       "      <td>Untitled 04</td>\n",
       "    </tr>\n",
       "    <tr>\n",
       "      <th>3</th>\n",
       "      <td>152</td>\n",
       "      <td>192000</td>\n",
       "      <td>0</td>\n",
       "      <td>NaN</td>\n",
       "      <td>2008-11-26 01:44:58</td>\n",
       "      <td>NaN</td>\n",
       "      <td>193</td>\n",
       "      <td>0</td>\n",
       "      <td>Rock</td>\n",
       "      <td>[25]</td>\n",
       "      <td>...</td>\n",
       "      <td>NaN</td>\n",
       "      <td>637</td>\n",
       "      <td>en</td>\n",
       "      <td>Attribution-NonCommercial-ShareAlike 3.0 Inter...</td>\n",
       "      <td>98</td>\n",
       "      <td>NaN</td>\n",
       "      <td>11</td>\n",
       "      <td>NaN</td>\n",
       "      <td>[]</td>\n",
       "      <td>Untitled 11</td>\n",
       "    </tr>\n",
       "    <tr>\n",
       "      <th>4</th>\n",
       "      <td>153</td>\n",
       "      <td>256000</td>\n",
       "      <td>0</td>\n",
       "      <td>Arc and Sender</td>\n",
       "      <td>2008-11-26 01:45:00</td>\n",
       "      <td>2008-11-26 00:00:00</td>\n",
       "      <td>405</td>\n",
       "      <td>5</td>\n",
       "      <td>Rock</td>\n",
       "      <td>[26]</td>\n",
       "      <td>...</td>\n",
       "      <td>NaN</td>\n",
       "      <td>354</td>\n",
       "      <td>en</td>\n",
       "      <td>Attribution-NonCommercial-NoDerivatives (aka M...</td>\n",
       "      <td>424</td>\n",
       "      <td>NaN</td>\n",
       "      <td>2</td>\n",
       "      <td>NaN</td>\n",
       "      <td>[]</td>\n",
       "      <td>Hundred-Year Flood</td>\n",
       "    </tr>\n",
       "    <tr>\n",
       "      <th>...</th>\n",
       "      <td>...</td>\n",
       "      <td>...</td>\n",
       "      <td>...</td>\n",
       "      <td>...</td>\n",
       "      <td>...</td>\n",
       "      <td>...</td>\n",
       "      <td>...</td>\n",
       "      <td>...</td>\n",
       "      <td>...</td>\n",
       "      <td>...</td>\n",
       "      <td>...</td>\n",
       "      <td>...</td>\n",
       "      <td>...</td>\n",
       "      <td>...</td>\n",
       "      <td>...</td>\n",
       "      <td>...</td>\n",
       "      <td>...</td>\n",
       "      <td>...</td>\n",
       "      <td>...</td>\n",
       "      <td>...</td>\n",
       "      <td>...</td>\n",
       "    </tr>\n",
       "    <tr>\n",
       "      <th>17729</th>\n",
       "      <td>155063</td>\n",
       "      <td>320000</td>\n",
       "      <td>0</td>\n",
       "      <td>NaN</td>\n",
       "      <td>2017-03-24 19:40:43</td>\n",
       "      <td>NaN</td>\n",
       "      <td>283</td>\n",
       "      <td>3</td>\n",
       "      <td>Hip-Hop</td>\n",
       "      <td>[21, 811]</td>\n",
       "      <td>...</td>\n",
       "      <td>NaN</td>\n",
       "      <td>1283</td>\n",
       "      <td>NaN</td>\n",
       "      <td>Attribution</td>\n",
       "      <td>1050</td>\n",
       "      <td>NaN</td>\n",
       "      <td>4</td>\n",
       "      <td>NaN</td>\n",
       "      <td>['old school beats', '2017 free instrumentals'...</td>\n",
       "      <td>Been On</td>\n",
       "    </tr>\n",
       "    <tr>\n",
       "      <th>17730</th>\n",
       "      <td>155064</td>\n",
       "      <td>320000</td>\n",
       "      <td>0</td>\n",
       "      <td>NaN</td>\n",
       "      <td>2017-03-24 19:40:44</td>\n",
       "      <td>NaN</td>\n",
       "      <td>250</td>\n",
       "      <td>2</td>\n",
       "      <td>Hip-Hop</td>\n",
       "      <td>[21, 811]</td>\n",
       "      <td>...</td>\n",
       "      <td>NaN</td>\n",
       "      <td>1077</td>\n",
       "      <td>NaN</td>\n",
       "      <td>Attribution</td>\n",
       "      <td>858</td>\n",
       "      <td>NaN</td>\n",
       "      <td>2</td>\n",
       "      <td>NaN</td>\n",
       "      <td>['old school beats', '2017 free instrumentals'...</td>\n",
       "      <td>Send Me</td>\n",
       "    </tr>\n",
       "    <tr>\n",
       "      <th>17731</th>\n",
       "      <td>155065</td>\n",
       "      <td>320000</td>\n",
       "      <td>0</td>\n",
       "      <td>NaN</td>\n",
       "      <td>2017-03-24 19:40:45</td>\n",
       "      <td>NaN</td>\n",
       "      <td>219</td>\n",
       "      <td>3</td>\n",
       "      <td>Hip-Hop</td>\n",
       "      <td>[21, 811]</td>\n",
       "      <td>...</td>\n",
       "      <td>NaN</td>\n",
       "      <td>1340</td>\n",
       "      <td>NaN</td>\n",
       "      <td>Attribution</td>\n",
       "      <td>1142</td>\n",
       "      <td>NaN</td>\n",
       "      <td>1</td>\n",
       "      <td>NaN</td>\n",
       "      <td>['old school beats', '2017 free instrumentals'...</td>\n",
       "      <td>The Question</td>\n",
       "    </tr>\n",
       "    <tr>\n",
       "      <th>17732</th>\n",
       "      <td>155066</td>\n",
       "      <td>320000</td>\n",
       "      <td>0</td>\n",
       "      <td>NaN</td>\n",
       "      <td>2017-03-24 19:40:47</td>\n",
       "      <td>NaN</td>\n",
       "      <td>252</td>\n",
       "      <td>6</td>\n",
       "      <td>Hip-Hop</td>\n",
       "      <td>[21, 811]</td>\n",
       "      <td>...</td>\n",
       "      <td>NaN</td>\n",
       "      <td>2065</td>\n",
       "      <td>NaN</td>\n",
       "      <td>Attribution</td>\n",
       "      <td>1474</td>\n",
       "      <td>NaN</td>\n",
       "      <td>3</td>\n",
       "      <td>NaN</td>\n",
       "      <td>['old school beats', '2017 free instrumentals'...</td>\n",
       "      <td>Roy</td>\n",
       "    </tr>\n",
       "    <tr>\n",
       "      <th>17733</th>\n",
       "      <td>155247</td>\n",
       "      <td>320000</td>\n",
       "      <td>0</td>\n",
       "      <td>Fleslit</td>\n",
       "      <td>2017-03-29 01:40:28</td>\n",
       "      <td>NaN</td>\n",
       "      <td>211</td>\n",
       "      <td>3</td>\n",
       "      <td>Hip-Hop</td>\n",
       "      <td>[21, 539, 811]</td>\n",
       "      <td>...</td>\n",
       "      <td>NaN</td>\n",
       "      <td>1379</td>\n",
       "      <td>NaN</td>\n",
       "      <td>Attribution</td>\n",
       "      <td>1025</td>\n",
       "      <td>NaN</td>\n",
       "      <td>0</td>\n",
       "      <td>Fleslit</td>\n",
       "      <td>['instrumental trap beat', 'love', 'instrument...</td>\n",
       "      <td>Love In The Sky</td>\n",
       "    </tr>\n",
       "  </tbody>\n",
       "</table>\n",
       "<p>17734 rows × 21 columns</p>\n",
       "</div>"
      ],
      "text/plain": [
       "       track_id  bit_rate  comments        composer         date_created  \\\n",
       "0           135    256000         1             NaN  2008-11-26 01:43:26   \n",
       "1           136    256000         1             NaN  2008-11-26 01:43:35   \n",
       "2           151    192000         0             NaN  2008-11-26 01:44:55   \n",
       "3           152    192000         0             NaN  2008-11-26 01:44:58   \n",
       "4           153    256000         0  Arc and Sender  2008-11-26 01:45:00   \n",
       "...         ...       ...       ...             ...                  ...   \n",
       "17729    155063    320000         0             NaN  2017-03-24 19:40:43   \n",
       "17730    155064    320000         0             NaN  2017-03-24 19:40:44   \n",
       "17731    155065    320000         0             NaN  2017-03-24 19:40:45   \n",
       "17732    155066    320000         0             NaN  2017-03-24 19:40:47   \n",
       "17733    155247    320000         0         Fleslit  2017-03-29 01:40:28   \n",
       "\n",
       "             date_recorded  duration  favorites genre_top          genres  \\\n",
       "0      2008-11-26 00:00:00       837          0      Rock        [45, 58]   \n",
       "1      2008-11-26 00:00:00       509          0      Rock        [45, 58]   \n",
       "2                      NaN       192          0      Rock            [25]   \n",
       "3                      NaN       193          0      Rock            [25]   \n",
       "4      2008-11-26 00:00:00       405          5      Rock            [26]   \n",
       "...                    ...       ...        ...       ...             ...   \n",
       "17729                  NaN       283          3   Hip-Hop       [21, 811]   \n",
       "17730                  NaN       250          2   Hip-Hop       [21, 811]   \n",
       "17731                  NaN       219          3   Hip-Hop       [21, 811]   \n",
       "17732                  NaN       252          6   Hip-Hop       [21, 811]   \n",
       "17733                  NaN       211          3   Hip-Hop  [21, 539, 811]   \n",
       "\n",
       "       ... information interest  language_code  \\\n",
       "0      ...         NaN     2484             en   \n",
       "1      ...         NaN     1948             en   \n",
       "2      ...         NaN      701             en   \n",
       "3      ...         NaN      637             en   \n",
       "4      ...         NaN      354             en   \n",
       "...    ...         ...      ...            ...   \n",
       "17729  ...         NaN     1283            NaN   \n",
       "17730  ...         NaN     1077            NaN   \n",
       "17731  ...         NaN     1340            NaN   \n",
       "17732  ...         NaN     2065            NaN   \n",
       "17733  ...         NaN     1379            NaN   \n",
       "\n",
       "                                                 license listens  lyricist  \\\n",
       "0      Attribution-NonCommercial-ShareAlike 3.0 Inter...    1832       NaN   \n",
       "1      Attribution-NonCommercial-ShareAlike 3.0 Inter...    1498       NaN   \n",
       "2      Attribution-NonCommercial-ShareAlike 3.0 Inter...     148       NaN   \n",
       "3      Attribution-NonCommercial-ShareAlike 3.0 Inter...      98       NaN   \n",
       "4      Attribution-NonCommercial-NoDerivatives (aka M...     424       NaN   \n",
       "...                                                  ...     ...       ...   \n",
       "17729                                        Attribution    1050       NaN   \n",
       "17730                                        Attribution     858       NaN   \n",
       "17731                                        Attribution    1142       NaN   \n",
       "17732                                        Attribution    1474       NaN   \n",
       "17733                                        Attribution    1025       NaN   \n",
       "\n",
       "      number  publisher                                               tags  \\\n",
       "0          0        NaN                                                 []   \n",
       "1          0        NaN                                                 []   \n",
       "2          4        NaN                                                 []   \n",
       "3         11        NaN                                                 []   \n",
       "4          2        NaN                                                 []   \n",
       "...      ...        ...                                                ...   \n",
       "17729      4        NaN  ['old school beats', '2017 free instrumentals'...   \n",
       "17730      2        NaN  ['old school beats', '2017 free instrumentals'...   \n",
       "17731      1        NaN  ['old school beats', '2017 free instrumentals'...   \n",
       "17732      3        NaN  ['old school beats', '2017 free instrumentals'...   \n",
       "17733      0    Fleslit  ['instrumental trap beat', 'love', 'instrument...   \n",
       "\n",
       "                            title  \n",
       "0                    Father's Day  \n",
       "1      Peel Back The Mountain Sky  \n",
       "2                     Untitled 04  \n",
       "3                     Untitled 11  \n",
       "4              Hundred-Year Flood  \n",
       "...                           ...  \n",
       "17729                     Been On  \n",
       "17730                     Send Me  \n",
       "17731                The Question  \n",
       "17732                         Roy  \n",
       "17733             Love In The Sky  \n",
       "\n",
       "[17734 rows x 21 columns]"
      ]
     },
     "execution_count": 5,
     "metadata": {},
     "output_type": "execute_result"
    }
   ],
   "source": [
    "tracks"
   ]
  },
  {
   "cell_type": "code",
   "execution_count": 6,
   "metadata": {},
   "outputs": [],
   "source": [
    "echo_tracks = pd.merge(echonest_metrics , tracks[[\"track_id\",\"genre_top\"]],on=\"track_id\")"
   ]
  },
  {
   "cell_type": "code",
   "execution_count": 7,
   "metadata": {},
   "outputs": [
    {
     "data": {
      "text/html": [
       "<div>\n",
       "<style scoped>\n",
       "    .dataframe tbody tr th:only-of-type {\n",
       "        vertical-align: middle;\n",
       "    }\n",
       "\n",
       "    .dataframe tbody tr th {\n",
       "        vertical-align: top;\n",
       "    }\n",
       "\n",
       "    .dataframe thead th {\n",
       "        text-align: right;\n",
       "    }\n",
       "</style>\n",
       "<table border=\"1\" class=\"dataframe\">\n",
       "  <thead>\n",
       "    <tr style=\"text-align: right;\">\n",
       "      <th></th>\n",
       "      <th>track_id</th>\n",
       "      <th>acousticness</th>\n",
       "      <th>danceability</th>\n",
       "      <th>energy</th>\n",
       "      <th>instrumentalness</th>\n",
       "      <th>liveness</th>\n",
       "      <th>speechiness</th>\n",
       "      <th>tempo</th>\n",
       "      <th>valence</th>\n",
       "      <th>genre_top</th>\n",
       "    </tr>\n",
       "  </thead>\n",
       "  <tbody>\n",
       "    <tr>\n",
       "      <th>0</th>\n",
       "      <td>2</td>\n",
       "      <td>0.416675</td>\n",
       "      <td>0.675894</td>\n",
       "      <td>0.634476</td>\n",
       "      <td>1.062807e-02</td>\n",
       "      <td>0.177647</td>\n",
       "      <td>0.159310</td>\n",
       "      <td>165.922</td>\n",
       "      <td>0.576661</td>\n",
       "      <td>Hip-Hop</td>\n",
       "    </tr>\n",
       "    <tr>\n",
       "      <th>1</th>\n",
       "      <td>3</td>\n",
       "      <td>0.374408</td>\n",
       "      <td>0.528643</td>\n",
       "      <td>0.817461</td>\n",
       "      <td>1.851103e-03</td>\n",
       "      <td>0.105880</td>\n",
       "      <td>0.461818</td>\n",
       "      <td>126.957</td>\n",
       "      <td>0.269240</td>\n",
       "      <td>Hip-Hop</td>\n",
       "    </tr>\n",
       "    <tr>\n",
       "      <th>2</th>\n",
       "      <td>5</td>\n",
       "      <td>0.043567</td>\n",
       "      <td>0.745566</td>\n",
       "      <td>0.701470</td>\n",
       "      <td>6.967990e-04</td>\n",
       "      <td>0.373143</td>\n",
       "      <td>0.124595</td>\n",
       "      <td>100.260</td>\n",
       "      <td>0.621661</td>\n",
       "      <td>Hip-Hop</td>\n",
       "    </tr>\n",
       "    <tr>\n",
       "      <th>3</th>\n",
       "      <td>134</td>\n",
       "      <td>0.452217</td>\n",
       "      <td>0.513238</td>\n",
       "      <td>0.560410</td>\n",
       "      <td>1.944269e-02</td>\n",
       "      <td>0.096567</td>\n",
       "      <td>0.525519</td>\n",
       "      <td>114.290</td>\n",
       "      <td>0.894072</td>\n",
       "      <td>Hip-Hop</td>\n",
       "    </tr>\n",
       "    <tr>\n",
       "      <th>4</th>\n",
       "      <td>153</td>\n",
       "      <td>0.988306</td>\n",
       "      <td>0.255661</td>\n",
       "      <td>0.979774</td>\n",
       "      <td>9.730057e-01</td>\n",
       "      <td>0.121342</td>\n",
       "      <td>0.051740</td>\n",
       "      <td>90.241</td>\n",
       "      <td>0.034018</td>\n",
       "      <td>Rock</td>\n",
       "    </tr>\n",
       "    <tr>\n",
       "      <th>...</th>\n",
       "      <td>...</td>\n",
       "      <td>...</td>\n",
       "      <td>...</td>\n",
       "      <td>...</td>\n",
       "      <td>...</td>\n",
       "      <td>...</td>\n",
       "      <td>...</td>\n",
       "      <td>...</td>\n",
       "      <td>...</td>\n",
       "      <td>...</td>\n",
       "    </tr>\n",
       "    <tr>\n",
       "      <th>4797</th>\n",
       "      <td>124718</td>\n",
       "      <td>0.412194</td>\n",
       "      <td>0.686825</td>\n",
       "      <td>0.849309</td>\n",
       "      <td>6.000000e-10</td>\n",
       "      <td>0.867543</td>\n",
       "      <td>0.367315</td>\n",
       "      <td>96.104</td>\n",
       "      <td>0.692414</td>\n",
       "      <td>Hip-Hop</td>\n",
       "    </tr>\n",
       "    <tr>\n",
       "      <th>4798</th>\n",
       "      <td>124719</td>\n",
       "      <td>0.054973</td>\n",
       "      <td>0.617535</td>\n",
       "      <td>0.728567</td>\n",
       "      <td>7.215700e-06</td>\n",
       "      <td>0.131438</td>\n",
       "      <td>0.243130</td>\n",
       "      <td>96.262</td>\n",
       "      <td>0.399720</td>\n",
       "      <td>Hip-Hop</td>\n",
       "    </tr>\n",
       "    <tr>\n",
       "      <th>4799</th>\n",
       "      <td>124720</td>\n",
       "      <td>0.010478</td>\n",
       "      <td>0.652483</td>\n",
       "      <td>0.657498</td>\n",
       "      <td>7.098000e-07</td>\n",
       "      <td>0.701523</td>\n",
       "      <td>0.229174</td>\n",
       "      <td>94.885</td>\n",
       "      <td>0.432240</td>\n",
       "      <td>Hip-Hop</td>\n",
       "    </tr>\n",
       "    <tr>\n",
       "      <th>4800</th>\n",
       "      <td>124721</td>\n",
       "      <td>0.067906</td>\n",
       "      <td>0.432421</td>\n",
       "      <td>0.764508</td>\n",
       "      <td>1.625500e-06</td>\n",
       "      <td>0.104412</td>\n",
       "      <td>0.310553</td>\n",
       "      <td>171.329</td>\n",
       "      <td>0.580087</td>\n",
       "      <td>Hip-Hop</td>\n",
       "    </tr>\n",
       "    <tr>\n",
       "      <th>4801</th>\n",
       "      <td>124722</td>\n",
       "      <td>0.153518</td>\n",
       "      <td>0.638660</td>\n",
       "      <td>0.762567</td>\n",
       "      <td>5.000000e-10</td>\n",
       "      <td>0.264847</td>\n",
       "      <td>0.303372</td>\n",
       "      <td>77.842</td>\n",
       "      <td>0.656612</td>\n",
       "      <td>Hip-Hop</td>\n",
       "    </tr>\n",
       "  </tbody>\n",
       "</table>\n",
       "<p>4802 rows × 10 columns</p>\n",
       "</div>"
      ],
      "text/plain": [
       "      track_id  acousticness  danceability    energy  instrumentalness  \\\n",
       "0            2      0.416675      0.675894  0.634476      1.062807e-02   \n",
       "1            3      0.374408      0.528643  0.817461      1.851103e-03   \n",
       "2            5      0.043567      0.745566  0.701470      6.967990e-04   \n",
       "3          134      0.452217      0.513238  0.560410      1.944269e-02   \n",
       "4          153      0.988306      0.255661  0.979774      9.730057e-01   \n",
       "...        ...           ...           ...       ...               ...   \n",
       "4797    124718      0.412194      0.686825  0.849309      6.000000e-10   \n",
       "4798    124719      0.054973      0.617535  0.728567      7.215700e-06   \n",
       "4799    124720      0.010478      0.652483  0.657498      7.098000e-07   \n",
       "4800    124721      0.067906      0.432421  0.764508      1.625500e-06   \n",
       "4801    124722      0.153518      0.638660  0.762567      5.000000e-10   \n",
       "\n",
       "      liveness  speechiness    tempo   valence genre_top  \n",
       "0     0.177647     0.159310  165.922  0.576661   Hip-Hop  \n",
       "1     0.105880     0.461818  126.957  0.269240   Hip-Hop  \n",
       "2     0.373143     0.124595  100.260  0.621661   Hip-Hop  \n",
       "3     0.096567     0.525519  114.290  0.894072   Hip-Hop  \n",
       "4     0.121342     0.051740   90.241  0.034018      Rock  \n",
       "...        ...          ...      ...       ...       ...  \n",
       "4797  0.867543     0.367315   96.104  0.692414   Hip-Hop  \n",
       "4798  0.131438     0.243130   96.262  0.399720   Hip-Hop  \n",
       "4799  0.701523     0.229174   94.885  0.432240   Hip-Hop  \n",
       "4800  0.104412     0.310553  171.329  0.580087   Hip-Hop  \n",
       "4801  0.264847     0.303372   77.842  0.656612   Hip-Hop  \n",
       "\n",
       "[4802 rows x 10 columns]"
      ]
     },
     "execution_count": 7,
     "metadata": {},
     "output_type": "execute_result"
    }
   ],
   "source": [
    "echo_tracks"
   ]
  },
  {
   "cell_type": "code",
   "execution_count": 8,
   "metadata": {},
   "outputs": [
    {
     "name": "stdout",
     "output_type": "stream",
     "text": [
      "<class 'pandas.core.frame.DataFrame'>\n",
      "Int64Index: 4802 entries, 0 to 4801\n",
      "Data columns (total 10 columns):\n",
      " #   Column            Non-Null Count  Dtype  \n",
      "---  ------            --------------  -----  \n",
      " 0   track_id          4802 non-null   int64  \n",
      " 1   acousticness      4802 non-null   float64\n",
      " 2   danceability      4802 non-null   float64\n",
      " 3   energy            4802 non-null   float64\n",
      " 4   instrumentalness  4802 non-null   float64\n",
      " 5   liveness          4802 non-null   float64\n",
      " 6   speechiness       4802 non-null   float64\n",
      " 7   tempo             4802 non-null   float64\n",
      " 8   valence           4802 non-null   float64\n",
      " 9   genre_top         4802 non-null   object \n",
      "dtypes: float64(8), int64(1), object(1)\n",
      "memory usage: 412.7+ KB\n"
     ]
    }
   ],
   "source": [
    "echo_tracks.info()\n"
   ]
  },
  {
   "cell_type": "code",
   "execution_count": 9,
   "metadata": {},
   "outputs": [
    {
     "data": {
      "text/html": [
       "<div>\n",
       "<style scoped>\n",
       "    .dataframe tbody tr th:only-of-type {\n",
       "        vertical-align: middle;\n",
       "    }\n",
       "\n",
       "    .dataframe tbody tr th {\n",
       "        vertical-align: top;\n",
       "    }\n",
       "\n",
       "    .dataframe thead th {\n",
       "        text-align: right;\n",
       "    }\n",
       "</style>\n",
       "<table border=\"1\" class=\"dataframe\">\n",
       "  <thead>\n",
       "    <tr style=\"text-align: right;\">\n",
       "      <th></th>\n",
       "      <th>track_id</th>\n",
       "      <th>acousticness</th>\n",
       "      <th>danceability</th>\n",
       "      <th>energy</th>\n",
       "      <th>instrumentalness</th>\n",
       "      <th>liveness</th>\n",
       "      <th>speechiness</th>\n",
       "      <th>tempo</th>\n",
       "      <th>valence</th>\n",
       "      <th>genre_top</th>\n",
       "    </tr>\n",
       "  </thead>\n",
       "  <tbody>\n",
       "    <tr>\n",
       "      <th>0</th>\n",
       "      <td>2</td>\n",
       "      <td>0.416675</td>\n",
       "      <td>0.675894</td>\n",
       "      <td>0.634476</td>\n",
       "      <td>0.010628</td>\n",
       "      <td>0.177647</td>\n",
       "      <td>0.159310</td>\n",
       "      <td>165.922</td>\n",
       "      <td>0.576661</td>\n",
       "      <td>0</td>\n",
       "    </tr>\n",
       "    <tr>\n",
       "      <th>1</th>\n",
       "      <td>3</td>\n",
       "      <td>0.374408</td>\n",
       "      <td>0.528643</td>\n",
       "      <td>0.817461</td>\n",
       "      <td>0.001851</td>\n",
       "      <td>0.105880</td>\n",
       "      <td>0.461818</td>\n",
       "      <td>126.957</td>\n",
       "      <td>0.269240</td>\n",
       "      <td>0</td>\n",
       "    </tr>\n",
       "    <tr>\n",
       "      <th>2</th>\n",
       "      <td>5</td>\n",
       "      <td>0.043567</td>\n",
       "      <td>0.745566</td>\n",
       "      <td>0.701470</td>\n",
       "      <td>0.000697</td>\n",
       "      <td>0.373143</td>\n",
       "      <td>0.124595</td>\n",
       "      <td>100.260</td>\n",
       "      <td>0.621661</td>\n",
       "      <td>0</td>\n",
       "    </tr>\n",
       "    <tr>\n",
       "      <th>3</th>\n",
       "      <td>134</td>\n",
       "      <td>0.452217</td>\n",
       "      <td>0.513238</td>\n",
       "      <td>0.560410</td>\n",
       "      <td>0.019443</td>\n",
       "      <td>0.096567</td>\n",
       "      <td>0.525519</td>\n",
       "      <td>114.290</td>\n",
       "      <td>0.894072</td>\n",
       "      <td>0</td>\n",
       "    </tr>\n",
       "    <tr>\n",
       "      <th>4</th>\n",
       "      <td>153</td>\n",
       "      <td>0.988306</td>\n",
       "      <td>0.255661</td>\n",
       "      <td>0.979774</td>\n",
       "      <td>0.973006</td>\n",
       "      <td>0.121342</td>\n",
       "      <td>0.051740</td>\n",
       "      <td>90.241</td>\n",
       "      <td>0.034018</td>\n",
       "      <td>1</td>\n",
       "    </tr>\n",
       "  </tbody>\n",
       "</table>\n",
       "</div>"
      ],
      "text/plain": [
       "   track_id  acousticness  danceability    energy  instrumentalness  liveness  \\\n",
       "0         2      0.416675      0.675894  0.634476          0.010628  0.177647   \n",
       "1         3      0.374408      0.528643  0.817461          0.001851  0.105880   \n",
       "2         5      0.043567      0.745566  0.701470          0.000697  0.373143   \n",
       "3       134      0.452217      0.513238  0.560410          0.019443  0.096567   \n",
       "4       153      0.988306      0.255661  0.979774          0.973006  0.121342   \n",
       "\n",
       "   speechiness    tempo   valence  genre_top  \n",
       "0     0.159310  165.922  0.576661          0  \n",
       "1     0.461818  126.957  0.269240          0  \n",
       "2     0.124595  100.260  0.621661          0  \n",
       "3     0.525519  114.290  0.894072          0  \n",
       "4     0.051740   90.241  0.034018          1  "
      ]
     },
     "execution_count": 9,
     "metadata": {},
     "output_type": "execute_result"
    }
   ],
   "source": [
    "nums = {\"genre_top\": {\"Hip-Hop\": 0, \"Rock\": 1}}\n",
    "echo_tracks = echo_tracks.replace(nums)\n",
    "echo_tracks.head()"
   ]
  },
  {
   "cell_type": "code",
   "execution_count": 10,
   "metadata": {},
   "outputs": [
    {
     "data": {
      "text/html": [
       "<div>\n",
       "<style scoped>\n",
       "    .dataframe tbody tr th:only-of-type {\n",
       "        vertical-align: middle;\n",
       "    }\n",
       "\n",
       "    .dataframe tbody tr th {\n",
       "        vertical-align: top;\n",
       "    }\n",
       "\n",
       "    .dataframe thead th {\n",
       "        text-align: right;\n",
       "    }\n",
       "</style>\n",
       "<table border=\"1\" class=\"dataframe\">\n",
       "  <thead>\n",
       "    <tr style=\"text-align: right;\">\n",
       "      <th></th>\n",
       "      <th>track_id</th>\n",
       "      <th>acousticness</th>\n",
       "      <th>danceability</th>\n",
       "      <th>energy</th>\n",
       "      <th>instrumentalness</th>\n",
       "      <th>liveness</th>\n",
       "      <th>speechiness</th>\n",
       "      <th>tempo</th>\n",
       "      <th>valence</th>\n",
       "      <th>genre_top</th>\n",
       "    </tr>\n",
       "  </thead>\n",
       "  <tbody>\n",
       "    <tr>\n",
       "      <th>0</th>\n",
       "      <td>2</td>\n",
       "      <td>0.416675</td>\n",
       "      <td>0.675894</td>\n",
       "      <td>0.634476</td>\n",
       "      <td>1.062807e-02</td>\n",
       "      <td>0.177647</td>\n",
       "      <td>0.159310</td>\n",
       "      <td>165.922</td>\n",
       "      <td>0.576661</td>\n",
       "      <td>0</td>\n",
       "    </tr>\n",
       "    <tr>\n",
       "      <th>1</th>\n",
       "      <td>3</td>\n",
       "      <td>0.374408</td>\n",
       "      <td>0.528643</td>\n",
       "      <td>0.817461</td>\n",
       "      <td>1.851103e-03</td>\n",
       "      <td>0.105880</td>\n",
       "      <td>0.461818</td>\n",
       "      <td>126.957</td>\n",
       "      <td>0.269240</td>\n",
       "      <td>0</td>\n",
       "    </tr>\n",
       "    <tr>\n",
       "      <th>2</th>\n",
       "      <td>5</td>\n",
       "      <td>0.043567</td>\n",
       "      <td>0.745566</td>\n",
       "      <td>0.701470</td>\n",
       "      <td>6.967990e-04</td>\n",
       "      <td>0.373143</td>\n",
       "      <td>0.124595</td>\n",
       "      <td>100.260</td>\n",
       "      <td>0.621661</td>\n",
       "      <td>0</td>\n",
       "    </tr>\n",
       "    <tr>\n",
       "      <th>3</th>\n",
       "      <td>134</td>\n",
       "      <td>0.452217</td>\n",
       "      <td>0.513238</td>\n",
       "      <td>0.560410</td>\n",
       "      <td>1.944269e-02</td>\n",
       "      <td>0.096567</td>\n",
       "      <td>0.525519</td>\n",
       "      <td>114.290</td>\n",
       "      <td>0.894072</td>\n",
       "      <td>0</td>\n",
       "    </tr>\n",
       "    <tr>\n",
       "      <th>4</th>\n",
       "      <td>153</td>\n",
       "      <td>0.988306</td>\n",
       "      <td>0.255661</td>\n",
       "      <td>0.979774</td>\n",
       "      <td>9.730057e-01</td>\n",
       "      <td>0.121342</td>\n",
       "      <td>0.051740</td>\n",
       "      <td>90.241</td>\n",
       "      <td>0.034018</td>\n",
       "      <td>1</td>\n",
       "    </tr>\n",
       "    <tr>\n",
       "      <th>...</th>\n",
       "      <td>...</td>\n",
       "      <td>...</td>\n",
       "      <td>...</td>\n",
       "      <td>...</td>\n",
       "      <td>...</td>\n",
       "      <td>...</td>\n",
       "      <td>...</td>\n",
       "      <td>...</td>\n",
       "      <td>...</td>\n",
       "      <td>...</td>\n",
       "    </tr>\n",
       "    <tr>\n",
       "      <th>4797</th>\n",
       "      <td>124718</td>\n",
       "      <td>0.412194</td>\n",
       "      <td>0.686825</td>\n",
       "      <td>0.849309</td>\n",
       "      <td>6.000000e-10</td>\n",
       "      <td>0.867543</td>\n",
       "      <td>0.367315</td>\n",
       "      <td>96.104</td>\n",
       "      <td>0.692414</td>\n",
       "      <td>0</td>\n",
       "    </tr>\n",
       "    <tr>\n",
       "      <th>4798</th>\n",
       "      <td>124719</td>\n",
       "      <td>0.054973</td>\n",
       "      <td>0.617535</td>\n",
       "      <td>0.728567</td>\n",
       "      <td>7.215700e-06</td>\n",
       "      <td>0.131438</td>\n",
       "      <td>0.243130</td>\n",
       "      <td>96.262</td>\n",
       "      <td>0.399720</td>\n",
       "      <td>0</td>\n",
       "    </tr>\n",
       "    <tr>\n",
       "      <th>4799</th>\n",
       "      <td>124720</td>\n",
       "      <td>0.010478</td>\n",
       "      <td>0.652483</td>\n",
       "      <td>0.657498</td>\n",
       "      <td>7.098000e-07</td>\n",
       "      <td>0.701523</td>\n",
       "      <td>0.229174</td>\n",
       "      <td>94.885</td>\n",
       "      <td>0.432240</td>\n",
       "      <td>0</td>\n",
       "    </tr>\n",
       "    <tr>\n",
       "      <th>4800</th>\n",
       "      <td>124721</td>\n",
       "      <td>0.067906</td>\n",
       "      <td>0.432421</td>\n",
       "      <td>0.764508</td>\n",
       "      <td>1.625500e-06</td>\n",
       "      <td>0.104412</td>\n",
       "      <td>0.310553</td>\n",
       "      <td>171.329</td>\n",
       "      <td>0.580087</td>\n",
       "      <td>0</td>\n",
       "    </tr>\n",
       "    <tr>\n",
       "      <th>4801</th>\n",
       "      <td>124722</td>\n",
       "      <td>0.153518</td>\n",
       "      <td>0.638660</td>\n",
       "      <td>0.762567</td>\n",
       "      <td>5.000000e-10</td>\n",
       "      <td>0.264847</td>\n",
       "      <td>0.303372</td>\n",
       "      <td>77.842</td>\n",
       "      <td>0.656612</td>\n",
       "      <td>0</td>\n",
       "    </tr>\n",
       "  </tbody>\n",
       "</table>\n",
       "<p>4802 rows × 10 columns</p>\n",
       "</div>"
      ],
      "text/plain": [
       "      track_id  acousticness  danceability    energy  instrumentalness  \\\n",
       "0            2      0.416675      0.675894  0.634476      1.062807e-02   \n",
       "1            3      0.374408      0.528643  0.817461      1.851103e-03   \n",
       "2            5      0.043567      0.745566  0.701470      6.967990e-04   \n",
       "3          134      0.452217      0.513238  0.560410      1.944269e-02   \n",
       "4          153      0.988306      0.255661  0.979774      9.730057e-01   \n",
       "...        ...           ...           ...       ...               ...   \n",
       "4797    124718      0.412194      0.686825  0.849309      6.000000e-10   \n",
       "4798    124719      0.054973      0.617535  0.728567      7.215700e-06   \n",
       "4799    124720      0.010478      0.652483  0.657498      7.098000e-07   \n",
       "4800    124721      0.067906      0.432421  0.764508      1.625500e-06   \n",
       "4801    124722      0.153518      0.638660  0.762567      5.000000e-10   \n",
       "\n",
       "      liveness  speechiness    tempo   valence  genre_top  \n",
       "0     0.177647     0.159310  165.922  0.576661          0  \n",
       "1     0.105880     0.461818  126.957  0.269240          0  \n",
       "2     0.373143     0.124595  100.260  0.621661          0  \n",
       "3     0.096567     0.525519  114.290  0.894072          0  \n",
       "4     0.121342     0.051740   90.241  0.034018          1  \n",
       "...        ...          ...      ...       ...        ...  \n",
       "4797  0.867543     0.367315   96.104  0.692414          0  \n",
       "4798  0.131438     0.243130   96.262  0.399720          0  \n",
       "4799  0.701523     0.229174   94.885  0.432240          0  \n",
       "4800  0.104412     0.310553  171.329  0.580087          0  \n",
       "4801  0.264847     0.303372   77.842  0.656612          0  \n",
       "\n",
       "[4802 rows x 10 columns]"
      ]
     },
     "execution_count": 10,
     "metadata": {},
     "output_type": "execute_result"
    }
   ],
   "source": [
    "echo_tracks\n"
   ]
  },
  {
   "cell_type": "code",
   "execution_count": 11,
   "metadata": {},
   "outputs": [],
   "source": [
    "#del echo_tracks['binary_genre']"
   ]
  },
  {
   "cell_type": "code",
   "execution_count": 12,
   "metadata": {},
   "outputs": [],
   "source": [
    "corr_metrics = echo_tracks.corr()\n"
   ]
  },
  {
   "cell_type": "code",
   "execution_count": 13,
   "metadata": {},
   "outputs": [
    {
     "data": {
      "text/html": [
       "<div>\n",
       "<style scoped>\n",
       "    .dataframe tbody tr th:only-of-type {\n",
       "        vertical-align: middle;\n",
       "    }\n",
       "\n",
       "    .dataframe tbody tr th {\n",
       "        vertical-align: top;\n",
       "    }\n",
       "\n",
       "    .dataframe thead th {\n",
       "        text-align: right;\n",
       "    }\n",
       "</style>\n",
       "<table border=\"1\" class=\"dataframe\">\n",
       "  <thead>\n",
       "    <tr style=\"text-align: right;\">\n",
       "      <th></th>\n",
       "      <th>track_id</th>\n",
       "      <th>acousticness</th>\n",
       "      <th>danceability</th>\n",
       "      <th>energy</th>\n",
       "      <th>instrumentalness</th>\n",
       "      <th>liveness</th>\n",
       "      <th>speechiness</th>\n",
       "      <th>tempo</th>\n",
       "      <th>valence</th>\n",
       "      <th>genre_top</th>\n",
       "    </tr>\n",
       "  </thead>\n",
       "  <tbody>\n",
       "    <tr>\n",
       "      <th>track_id</th>\n",
       "      <td>1.000000</td>\n",
       "      <td>-0.372282</td>\n",
       "      <td>0.049454</td>\n",
       "      <td>0.140703</td>\n",
       "      <td>-0.275623</td>\n",
       "      <td>0.048231</td>\n",
       "      <td>-0.026995</td>\n",
       "      <td>-0.025392</td>\n",
       "      <td>0.010070</td>\n",
       "      <td>-0.004624</td>\n",
       "    </tr>\n",
       "    <tr>\n",
       "      <th>acousticness</th>\n",
       "      <td>-0.372282</td>\n",
       "      <td>1.000000</td>\n",
       "      <td>-0.028954</td>\n",
       "      <td>-0.281619</td>\n",
       "      <td>0.194780</td>\n",
       "      <td>-0.019991</td>\n",
       "      <td>0.072204</td>\n",
       "      <td>-0.026310</td>\n",
       "      <td>-0.013841</td>\n",
       "      <td>0.097748</td>\n",
       "    </tr>\n",
       "    <tr>\n",
       "      <th>danceability</th>\n",
       "      <td>0.049454</td>\n",
       "      <td>-0.028954</td>\n",
       "      <td>1.000000</td>\n",
       "      <td>-0.242032</td>\n",
       "      <td>-0.255217</td>\n",
       "      <td>-0.106584</td>\n",
       "      <td>0.276206</td>\n",
       "      <td>-0.242089</td>\n",
       "      <td>0.473165</td>\n",
       "      <td>-0.484457</td>\n",
       "    </tr>\n",
       "    <tr>\n",
       "      <th>energy</th>\n",
       "      <td>0.140703</td>\n",
       "      <td>-0.281619</td>\n",
       "      <td>-0.242032</td>\n",
       "      <td>1.000000</td>\n",
       "      <td>0.028238</td>\n",
       "      <td>0.113331</td>\n",
       "      <td>-0.109983</td>\n",
       "      <td>0.195227</td>\n",
       "      <td>0.038603</td>\n",
       "      <td>0.124860</td>\n",
       "    </tr>\n",
       "    <tr>\n",
       "      <th>instrumentalness</th>\n",
       "      <td>-0.275623</td>\n",
       "      <td>0.194780</td>\n",
       "      <td>-0.255217</td>\n",
       "      <td>0.028238</td>\n",
       "      <td>1.000000</td>\n",
       "      <td>-0.091022</td>\n",
       "      <td>-0.366762</td>\n",
       "      <td>0.022215</td>\n",
       "      <td>-0.219967</td>\n",
       "      <td>0.326037</td>\n",
       "    </tr>\n",
       "    <tr>\n",
       "      <th>liveness</th>\n",
       "      <td>0.048231</td>\n",
       "      <td>-0.019991</td>\n",
       "      <td>-0.106584</td>\n",
       "      <td>0.113331</td>\n",
       "      <td>-0.091022</td>\n",
       "      <td>1.000000</td>\n",
       "      <td>0.041173</td>\n",
       "      <td>0.002732</td>\n",
       "      <td>-0.045093</td>\n",
       "      <td>-0.007070</td>\n",
       "    </tr>\n",
       "    <tr>\n",
       "      <th>speechiness</th>\n",
       "      <td>-0.026995</td>\n",
       "      <td>0.072204</td>\n",
       "      <td>0.276206</td>\n",
       "      <td>-0.109983</td>\n",
       "      <td>-0.366762</td>\n",
       "      <td>0.041173</td>\n",
       "      <td>1.000000</td>\n",
       "      <td>0.008241</td>\n",
       "      <td>0.149894</td>\n",
       "      <td>-0.496495</td>\n",
       "    </tr>\n",
       "    <tr>\n",
       "      <th>tempo</th>\n",
       "      <td>-0.025392</td>\n",
       "      <td>-0.026310</td>\n",
       "      <td>-0.242089</td>\n",
       "      <td>0.195227</td>\n",
       "      <td>0.022215</td>\n",
       "      <td>0.002732</td>\n",
       "      <td>0.008241</td>\n",
       "      <td>1.000000</td>\n",
       "      <td>0.052221</td>\n",
       "      <td>0.114571</td>\n",
       "    </tr>\n",
       "    <tr>\n",
       "      <th>valence</th>\n",
       "      <td>0.010070</td>\n",
       "      <td>-0.013841</td>\n",
       "      <td>0.473165</td>\n",
       "      <td>0.038603</td>\n",
       "      <td>-0.219967</td>\n",
       "      <td>-0.045093</td>\n",
       "      <td>0.149894</td>\n",
       "      <td>0.052221</td>\n",
       "      <td>1.000000</td>\n",
       "      <td>-0.246701</td>\n",
       "    </tr>\n",
       "    <tr>\n",
       "      <th>genre_top</th>\n",
       "      <td>-0.004624</td>\n",
       "      <td>0.097748</td>\n",
       "      <td>-0.484457</td>\n",
       "      <td>0.124860</td>\n",
       "      <td>0.326037</td>\n",
       "      <td>-0.007070</td>\n",
       "      <td>-0.496495</td>\n",
       "      <td>0.114571</td>\n",
       "      <td>-0.246701</td>\n",
       "      <td>1.000000</td>\n",
       "    </tr>\n",
       "  </tbody>\n",
       "</table>\n",
       "</div>"
      ],
      "text/plain": [
       "                  track_id  acousticness  danceability    energy  \\\n",
       "track_id          1.000000     -0.372282      0.049454  0.140703   \n",
       "acousticness     -0.372282      1.000000     -0.028954 -0.281619   \n",
       "danceability      0.049454     -0.028954      1.000000 -0.242032   \n",
       "energy            0.140703     -0.281619     -0.242032  1.000000   \n",
       "instrumentalness -0.275623      0.194780     -0.255217  0.028238   \n",
       "liveness          0.048231     -0.019991     -0.106584  0.113331   \n",
       "speechiness      -0.026995      0.072204      0.276206 -0.109983   \n",
       "tempo            -0.025392     -0.026310     -0.242089  0.195227   \n",
       "valence           0.010070     -0.013841      0.473165  0.038603   \n",
       "genre_top        -0.004624      0.097748     -0.484457  0.124860   \n",
       "\n",
       "                  instrumentalness  liveness  speechiness     tempo   valence  \\\n",
       "track_id                 -0.275623  0.048231    -0.026995 -0.025392  0.010070   \n",
       "acousticness              0.194780 -0.019991     0.072204 -0.026310 -0.013841   \n",
       "danceability             -0.255217 -0.106584     0.276206 -0.242089  0.473165   \n",
       "energy                    0.028238  0.113331    -0.109983  0.195227  0.038603   \n",
       "instrumentalness          1.000000 -0.091022    -0.366762  0.022215 -0.219967   \n",
       "liveness                 -0.091022  1.000000     0.041173  0.002732 -0.045093   \n",
       "speechiness              -0.366762  0.041173     1.000000  0.008241  0.149894   \n",
       "tempo                     0.022215  0.002732     0.008241  1.000000  0.052221   \n",
       "valence                  -0.219967 -0.045093     0.149894  0.052221  1.000000   \n",
       "genre_top                 0.326037 -0.007070    -0.496495  0.114571 -0.246701   \n",
       "\n",
       "                  genre_top  \n",
       "track_id          -0.004624  \n",
       "acousticness       0.097748  \n",
       "danceability      -0.484457  \n",
       "energy             0.124860  \n",
       "instrumentalness   0.326037  \n",
       "liveness          -0.007070  \n",
       "speechiness       -0.496495  \n",
       "tempo              0.114571  \n",
       "valence           -0.246701  \n",
       "genre_top          1.000000  "
      ]
     },
     "execution_count": 13,
     "metadata": {},
     "output_type": "execute_result"
    }
   ],
   "source": [
    "corr_metrics"
   ]
  },
  {
   "cell_type": "code",
   "execution_count": 14,
   "metadata": {},
   "outputs": [
    {
     "data": {
      "text/html": [
       "<style  type=\"text/css\" >\n",
       "#T_3623c_row0_col0,#T_3623c_row1_col1,#T_3623c_row2_col2,#T_3623c_row3_col3,#T_3623c_row4_col4,#T_3623c_row5_col5,#T_3623c_row6_col6,#T_3623c_row7_col7,#T_3623c_row8_col8,#T_3623c_row9_col9{\n",
       "            background-color:  #023858;\n",
       "            color:  #f1f1f1;\n",
       "        }#T_3623c_row0_col1,#T_3623c_row1_col0,#T_3623c_row1_col3,#T_3623c_row2_col5,#T_3623c_row2_col7,#T_3623c_row6_col4,#T_3623c_row6_col9,#T_3623c_row9_col2,#T_3623c_row9_col6,#T_3623c_row9_col8{\n",
       "            background-color:  #fff7fb;\n",
       "            color:  #000000;\n",
       "        }#T_3623c_row0_col2{\n",
       "            background-color:  #abbfdc;\n",
       "            color:  #000000;\n",
       "        }#T_3623c_row0_col3,#T_3623c_row0_col9{\n",
       "            background-color:  #b5c4df;\n",
       "            color:  #000000;\n",
       "        }#T_3623c_row0_col4{\n",
       "            background-color:  #f5eef6;\n",
       "            color:  #000000;\n",
       "        }#T_3623c_row0_col5{\n",
       "            background-color:  #e9e5f1;\n",
       "            color:  #000000;\n",
       "        }#T_3623c_row0_col6{\n",
       "            background-color:  #bbc7e0;\n",
       "            color:  #000000;\n",
       "        }#T_3623c_row0_col7,#T_3623c_row1_col7{\n",
       "            background-color:  #e1dfed;\n",
       "            color:  #000000;\n",
       "        }#T_3623c_row0_col8{\n",
       "            background-color:  #dad9ea;\n",
       "            color:  #000000;\n",
       "        }#T_3623c_row1_col2,#T_3623c_row2_col0,#T_3623c_row5_col0,#T_3623c_row5_col3{\n",
       "            background-color:  #bdc8e1;\n",
       "            color:  #000000;\n",
       "        }#T_3623c_row1_col4,#T_3623c_row4_col1{\n",
       "            background-color:  #97b7d7;\n",
       "            color:  #000000;\n",
       "        }#T_3623c_row1_col5,#T_3623c_row2_col4{\n",
       "            background-color:  #f3edf5;\n",
       "            color:  #000000;\n",
       "        }#T_3623c_row1_col6{\n",
       "            background-color:  #a4bcda;\n",
       "            color:  #000000;\n",
       "        }#T_3623c_row1_col8{\n",
       "            background-color:  #dfddec;\n",
       "            color:  #000000;\n",
       "        }#T_3623c_row1_col9{\n",
       "            background-color:  #9ebad9;\n",
       "            color:  #000000;\n",
       "        }#T_3623c_row2_col1,#T_3623c_row6_col0,#T_3623c_row7_col0,#T_3623c_row7_col1{\n",
       "            background-color:  #d0d1e6;\n",
       "            color:  #000000;\n",
       "        }#T_3623c_row2_col3{\n",
       "            background-color:  #fbf3f9;\n",
       "            color:  #000000;\n",
       "        }#T_3623c_row2_col6{\n",
       "            background-color:  #6ba5cd;\n",
       "            color:  #000000;\n",
       "        }#T_3623c_row2_col8{\n",
       "            background-color:  #4e9ac6;\n",
       "            color:  #000000;\n",
       "        }#T_3623c_row2_col9{\n",
       "            background-color:  #fef6fa;\n",
       "            color:  #000000;\n",
       "        }#T_3623c_row3_col0,#T_3623c_row7_col3{\n",
       "            background-color:  #a7bddb;\n",
       "            color:  #000000;\n",
       "        }#T_3623c_row3_col1{\n",
       "            background-color:  #f5eff6;\n",
       "            color:  #000000;\n",
       "        }#T_3623c_row3_col2,#T_3623c_row5_col8,#T_3623c_row7_col2{\n",
       "            background-color:  #e4e1ef;\n",
       "            color:  #000000;\n",
       "        }#T_3623c_row3_col4,#T_3623c_row9_col7{\n",
       "            background-color:  #c4cbe3;\n",
       "            color:  #000000;\n",
       "        }#T_3623c_row3_col5,#T_3623c_row5_col7{\n",
       "            background-color:  #dcdaeb;\n",
       "            color:  #000000;\n",
       "        }#T_3623c_row3_col6,#T_3623c_row8_col1{\n",
       "            background-color:  #cdd0e5;\n",
       "            color:  #000000;\n",
       "        }#T_3623c_row3_col7{\n",
       "            background-color:  #adc1dd;\n",
       "            color:  #000000;\n",
       "        }#T_3623c_row3_col8{\n",
       "            background-color:  #d5d5e8;\n",
       "            color:  #000000;\n",
       "        }#T_3623c_row3_col9{\n",
       "            background-color:  #96b6d7;\n",
       "            color:  #000000;\n",
       "        }#T_3623c_row4_col0{\n",
       "            background-color:  #f4eef6;\n",
       "            color:  #000000;\n",
       "        }#T_3623c_row4_col2{\n",
       "            background-color:  #e6e2ef;\n",
       "            color:  #000000;\n",
       "        }#T_3623c_row4_col3,#T_3623c_row7_col8{\n",
       "            background-color:  #d2d3e7;\n",
       "            color:  #000000;\n",
       "        }#T_3623c_row4_col5{\n",
       "            background-color:  #fdf5fa;\n",
       "            color:  #000000;\n",
       "        }#T_3623c_row4_col6{\n",
       "            background-color:  #f2ecf5;\n",
       "            color:  #000000;\n",
       "        }#T_3623c_row4_col7{\n",
       "            background-color:  #d9d8ea;\n",
       "            color:  #000000;\n",
       "        }#T_3623c_row4_col8{\n",
       "            background-color:  #fcf4fa;\n",
       "            color:  #000000;\n",
       "        }#T_3623c_row4_col9{\n",
       "            background-color:  #5c9fc9;\n",
       "            color:  #000000;\n",
       "        }#T_3623c_row5_col1,#T_3623c_row5_col2{\n",
       "            background-color:  #ced0e6;\n",
       "            color:  #000000;\n",
       "        }#T_3623c_row5_col4,#T_3623c_row6_col7{\n",
       "            background-color:  #dbdaeb;\n",
       "            color:  #000000;\n",
       "        }#T_3623c_row5_col6{\n",
       "            background-color:  #acc0dd;\n",
       "            color:  #000000;\n",
       "        }#T_3623c_row5_col9{\n",
       "            background-color:  #b7c5df;\n",
       "            color:  #000000;\n",
       "        }#T_3623c_row6_col1{\n",
       "            background-color:  #b8c6e0;\n",
       "            color:  #000000;\n",
       "        }#T_3623c_row6_col2{\n",
       "            background-color:  #6da6cd;\n",
       "            color:  #000000;\n",
       "        }#T_3623c_row6_col3,#T_3623c_row6_col5{\n",
       "            background-color:  #eae6f1;\n",
       "            color:  #000000;\n",
       "        }#T_3623c_row6_col8,#T_3623c_row9_col3{\n",
       "            background-color:  #b9c6e0;\n",
       "            color:  #000000;\n",
       "        }#T_3623c_row7_col4{\n",
       "            background-color:  #c5cce3;\n",
       "            color:  #000000;\n",
       "        }#T_3623c_row7_col5{\n",
       "            background-color:  #f0eaf4;\n",
       "            color:  #000000;\n",
       "        }#T_3623c_row7_col6{\n",
       "            background-color:  #b3c3de;\n",
       "            color:  #000000;\n",
       "        }#T_3623c_row7_col9{\n",
       "            background-color:  #99b8d8;\n",
       "            color:  #000000;\n",
       "        }#T_3623c_row8_col0{\n",
       "            background-color:  #c6cce3;\n",
       "            color:  #000000;\n",
       "        }#T_3623c_row8_col2{\n",
       "            background-color:  #2d8abd;\n",
       "            color:  #000000;\n",
       "        }#T_3623c_row8_col3{\n",
       "            background-color:  #d1d2e6;\n",
       "            color:  #000000;\n",
       "        }#T_3623c_row8_col4{\n",
       "            background-color:  #efe9f3;\n",
       "            color:  #000000;\n",
       "        }#T_3623c_row8_col5{\n",
       "            background-color:  #f7f0f7;\n",
       "            color:  #000000;\n",
       "        }#T_3623c_row8_col6{\n",
       "            background-color:  #8fb4d6;\n",
       "            color:  #000000;\n",
       "        }#T_3623c_row8_col7{\n",
       "            background-color:  #d3d4e7;\n",
       "            color:  #000000;\n",
       "        }#T_3623c_row8_col9{\n",
       "            background-color:  #e3e0ee;\n",
       "            color:  #000000;\n",
       "        }#T_3623c_row9_col0{\n",
       "            background-color:  #cacee5;\n",
       "            color:  #000000;\n",
       "        }#T_3623c_row9_col1{\n",
       "            background-color:  #b1c2de;\n",
       "            color:  #000000;\n",
       "        }#T_3623c_row9_col4{\n",
       "            background-color:  #71a8ce;\n",
       "            color:  #000000;\n",
       "        }#T_3623c_row9_col5{\n",
       "            background-color:  #f1ebf5;\n",
       "            color:  #000000;\n",
       "        }</style><table id=\"T_3623c_\" ><thead>    <tr>        <th class=\"blank level0\" ></th>        <th class=\"col_heading level0 col0\" >track_id</th>        <th class=\"col_heading level0 col1\" >acousticness</th>        <th class=\"col_heading level0 col2\" >danceability</th>        <th class=\"col_heading level0 col3\" >energy</th>        <th class=\"col_heading level0 col4\" >instrumentalness</th>        <th class=\"col_heading level0 col5\" >liveness</th>        <th class=\"col_heading level0 col6\" >speechiness</th>        <th class=\"col_heading level0 col7\" >tempo</th>        <th class=\"col_heading level0 col8\" >valence</th>        <th class=\"col_heading level0 col9\" >genre_top</th>    </tr></thead><tbody>\n",
       "                <tr>\n",
       "                        <th id=\"T_3623c_level0_row0\" class=\"row_heading level0 row0\" >track_id</th>\n",
       "                        <td id=\"T_3623c_row0_col0\" class=\"data row0 col0\" >1.000000</td>\n",
       "                        <td id=\"T_3623c_row0_col1\" class=\"data row0 col1\" >-0.372282</td>\n",
       "                        <td id=\"T_3623c_row0_col2\" class=\"data row0 col2\" >0.049454</td>\n",
       "                        <td id=\"T_3623c_row0_col3\" class=\"data row0 col3\" >0.140703</td>\n",
       "                        <td id=\"T_3623c_row0_col4\" class=\"data row0 col4\" >-0.275623</td>\n",
       "                        <td id=\"T_3623c_row0_col5\" class=\"data row0 col5\" >0.048231</td>\n",
       "                        <td id=\"T_3623c_row0_col6\" class=\"data row0 col6\" >-0.026995</td>\n",
       "                        <td id=\"T_3623c_row0_col7\" class=\"data row0 col7\" >-0.025392</td>\n",
       "                        <td id=\"T_3623c_row0_col8\" class=\"data row0 col8\" >0.010070</td>\n",
       "                        <td id=\"T_3623c_row0_col9\" class=\"data row0 col9\" >-0.004624</td>\n",
       "            </tr>\n",
       "            <tr>\n",
       "                        <th id=\"T_3623c_level0_row1\" class=\"row_heading level0 row1\" >acousticness</th>\n",
       "                        <td id=\"T_3623c_row1_col0\" class=\"data row1 col0\" >-0.372282</td>\n",
       "                        <td id=\"T_3623c_row1_col1\" class=\"data row1 col1\" >1.000000</td>\n",
       "                        <td id=\"T_3623c_row1_col2\" class=\"data row1 col2\" >-0.028954</td>\n",
       "                        <td id=\"T_3623c_row1_col3\" class=\"data row1 col3\" >-0.281619</td>\n",
       "                        <td id=\"T_3623c_row1_col4\" class=\"data row1 col4\" >0.194780</td>\n",
       "                        <td id=\"T_3623c_row1_col5\" class=\"data row1 col5\" >-0.019991</td>\n",
       "                        <td id=\"T_3623c_row1_col6\" class=\"data row1 col6\" >0.072204</td>\n",
       "                        <td id=\"T_3623c_row1_col7\" class=\"data row1 col7\" >-0.026310</td>\n",
       "                        <td id=\"T_3623c_row1_col8\" class=\"data row1 col8\" >-0.013841</td>\n",
       "                        <td id=\"T_3623c_row1_col9\" class=\"data row1 col9\" >0.097748</td>\n",
       "            </tr>\n",
       "            <tr>\n",
       "                        <th id=\"T_3623c_level0_row2\" class=\"row_heading level0 row2\" >danceability</th>\n",
       "                        <td id=\"T_3623c_row2_col0\" class=\"data row2 col0\" >0.049454</td>\n",
       "                        <td id=\"T_3623c_row2_col1\" class=\"data row2 col1\" >-0.028954</td>\n",
       "                        <td id=\"T_3623c_row2_col2\" class=\"data row2 col2\" >1.000000</td>\n",
       "                        <td id=\"T_3623c_row2_col3\" class=\"data row2 col3\" >-0.242032</td>\n",
       "                        <td id=\"T_3623c_row2_col4\" class=\"data row2 col4\" >-0.255217</td>\n",
       "                        <td id=\"T_3623c_row2_col5\" class=\"data row2 col5\" >-0.106584</td>\n",
       "                        <td id=\"T_3623c_row2_col6\" class=\"data row2 col6\" >0.276206</td>\n",
       "                        <td id=\"T_3623c_row2_col7\" class=\"data row2 col7\" >-0.242089</td>\n",
       "                        <td id=\"T_3623c_row2_col8\" class=\"data row2 col8\" >0.473165</td>\n",
       "                        <td id=\"T_3623c_row2_col9\" class=\"data row2 col9\" >-0.484457</td>\n",
       "            </tr>\n",
       "            <tr>\n",
       "                        <th id=\"T_3623c_level0_row3\" class=\"row_heading level0 row3\" >energy</th>\n",
       "                        <td id=\"T_3623c_row3_col0\" class=\"data row3 col0\" >0.140703</td>\n",
       "                        <td id=\"T_3623c_row3_col1\" class=\"data row3 col1\" >-0.281619</td>\n",
       "                        <td id=\"T_3623c_row3_col2\" class=\"data row3 col2\" >-0.242032</td>\n",
       "                        <td id=\"T_3623c_row3_col3\" class=\"data row3 col3\" >1.000000</td>\n",
       "                        <td id=\"T_3623c_row3_col4\" class=\"data row3 col4\" >0.028238</td>\n",
       "                        <td id=\"T_3623c_row3_col5\" class=\"data row3 col5\" >0.113331</td>\n",
       "                        <td id=\"T_3623c_row3_col6\" class=\"data row3 col6\" >-0.109983</td>\n",
       "                        <td id=\"T_3623c_row3_col7\" class=\"data row3 col7\" >0.195227</td>\n",
       "                        <td id=\"T_3623c_row3_col8\" class=\"data row3 col8\" >0.038603</td>\n",
       "                        <td id=\"T_3623c_row3_col9\" class=\"data row3 col9\" >0.124860</td>\n",
       "            </tr>\n",
       "            <tr>\n",
       "                        <th id=\"T_3623c_level0_row4\" class=\"row_heading level0 row4\" >instrumentalness</th>\n",
       "                        <td id=\"T_3623c_row4_col0\" class=\"data row4 col0\" >-0.275623</td>\n",
       "                        <td id=\"T_3623c_row4_col1\" class=\"data row4 col1\" >0.194780</td>\n",
       "                        <td id=\"T_3623c_row4_col2\" class=\"data row4 col2\" >-0.255217</td>\n",
       "                        <td id=\"T_3623c_row4_col3\" class=\"data row4 col3\" >0.028238</td>\n",
       "                        <td id=\"T_3623c_row4_col4\" class=\"data row4 col4\" >1.000000</td>\n",
       "                        <td id=\"T_3623c_row4_col5\" class=\"data row4 col5\" >-0.091022</td>\n",
       "                        <td id=\"T_3623c_row4_col6\" class=\"data row4 col6\" >-0.366762</td>\n",
       "                        <td id=\"T_3623c_row4_col7\" class=\"data row4 col7\" >0.022215</td>\n",
       "                        <td id=\"T_3623c_row4_col8\" class=\"data row4 col8\" >-0.219967</td>\n",
       "                        <td id=\"T_3623c_row4_col9\" class=\"data row4 col9\" >0.326037</td>\n",
       "            </tr>\n",
       "            <tr>\n",
       "                        <th id=\"T_3623c_level0_row5\" class=\"row_heading level0 row5\" >liveness</th>\n",
       "                        <td id=\"T_3623c_row5_col0\" class=\"data row5 col0\" >0.048231</td>\n",
       "                        <td id=\"T_3623c_row5_col1\" class=\"data row5 col1\" >-0.019991</td>\n",
       "                        <td id=\"T_3623c_row5_col2\" class=\"data row5 col2\" >-0.106584</td>\n",
       "                        <td id=\"T_3623c_row5_col3\" class=\"data row5 col3\" >0.113331</td>\n",
       "                        <td id=\"T_3623c_row5_col4\" class=\"data row5 col4\" >-0.091022</td>\n",
       "                        <td id=\"T_3623c_row5_col5\" class=\"data row5 col5\" >1.000000</td>\n",
       "                        <td id=\"T_3623c_row5_col6\" class=\"data row5 col6\" >0.041173</td>\n",
       "                        <td id=\"T_3623c_row5_col7\" class=\"data row5 col7\" >0.002732</td>\n",
       "                        <td id=\"T_3623c_row5_col8\" class=\"data row5 col8\" >-0.045093</td>\n",
       "                        <td id=\"T_3623c_row5_col9\" class=\"data row5 col9\" >-0.007070</td>\n",
       "            </tr>\n",
       "            <tr>\n",
       "                        <th id=\"T_3623c_level0_row6\" class=\"row_heading level0 row6\" >speechiness</th>\n",
       "                        <td id=\"T_3623c_row6_col0\" class=\"data row6 col0\" >-0.026995</td>\n",
       "                        <td id=\"T_3623c_row6_col1\" class=\"data row6 col1\" >0.072204</td>\n",
       "                        <td id=\"T_3623c_row6_col2\" class=\"data row6 col2\" >0.276206</td>\n",
       "                        <td id=\"T_3623c_row6_col3\" class=\"data row6 col3\" >-0.109983</td>\n",
       "                        <td id=\"T_3623c_row6_col4\" class=\"data row6 col4\" >-0.366762</td>\n",
       "                        <td id=\"T_3623c_row6_col5\" class=\"data row6 col5\" >0.041173</td>\n",
       "                        <td id=\"T_3623c_row6_col6\" class=\"data row6 col6\" >1.000000</td>\n",
       "                        <td id=\"T_3623c_row6_col7\" class=\"data row6 col7\" >0.008241</td>\n",
       "                        <td id=\"T_3623c_row6_col8\" class=\"data row6 col8\" >0.149894</td>\n",
       "                        <td id=\"T_3623c_row6_col9\" class=\"data row6 col9\" >-0.496495</td>\n",
       "            </tr>\n",
       "            <tr>\n",
       "                        <th id=\"T_3623c_level0_row7\" class=\"row_heading level0 row7\" >tempo</th>\n",
       "                        <td id=\"T_3623c_row7_col0\" class=\"data row7 col0\" >-0.025392</td>\n",
       "                        <td id=\"T_3623c_row7_col1\" class=\"data row7 col1\" >-0.026310</td>\n",
       "                        <td id=\"T_3623c_row7_col2\" class=\"data row7 col2\" >-0.242089</td>\n",
       "                        <td id=\"T_3623c_row7_col3\" class=\"data row7 col3\" >0.195227</td>\n",
       "                        <td id=\"T_3623c_row7_col4\" class=\"data row7 col4\" >0.022215</td>\n",
       "                        <td id=\"T_3623c_row7_col5\" class=\"data row7 col5\" >0.002732</td>\n",
       "                        <td id=\"T_3623c_row7_col6\" class=\"data row7 col6\" >0.008241</td>\n",
       "                        <td id=\"T_3623c_row7_col7\" class=\"data row7 col7\" >1.000000</td>\n",
       "                        <td id=\"T_3623c_row7_col8\" class=\"data row7 col8\" >0.052221</td>\n",
       "                        <td id=\"T_3623c_row7_col9\" class=\"data row7 col9\" >0.114571</td>\n",
       "            </tr>\n",
       "            <tr>\n",
       "                        <th id=\"T_3623c_level0_row8\" class=\"row_heading level0 row8\" >valence</th>\n",
       "                        <td id=\"T_3623c_row8_col0\" class=\"data row8 col0\" >0.010070</td>\n",
       "                        <td id=\"T_3623c_row8_col1\" class=\"data row8 col1\" >-0.013841</td>\n",
       "                        <td id=\"T_3623c_row8_col2\" class=\"data row8 col2\" >0.473165</td>\n",
       "                        <td id=\"T_3623c_row8_col3\" class=\"data row8 col3\" >0.038603</td>\n",
       "                        <td id=\"T_3623c_row8_col4\" class=\"data row8 col4\" >-0.219967</td>\n",
       "                        <td id=\"T_3623c_row8_col5\" class=\"data row8 col5\" >-0.045093</td>\n",
       "                        <td id=\"T_3623c_row8_col6\" class=\"data row8 col6\" >0.149894</td>\n",
       "                        <td id=\"T_3623c_row8_col7\" class=\"data row8 col7\" >0.052221</td>\n",
       "                        <td id=\"T_3623c_row8_col8\" class=\"data row8 col8\" >1.000000</td>\n",
       "                        <td id=\"T_3623c_row8_col9\" class=\"data row8 col9\" >-0.246701</td>\n",
       "            </tr>\n",
       "            <tr>\n",
       "                        <th id=\"T_3623c_level0_row9\" class=\"row_heading level0 row9\" >genre_top</th>\n",
       "                        <td id=\"T_3623c_row9_col0\" class=\"data row9 col0\" >-0.004624</td>\n",
       "                        <td id=\"T_3623c_row9_col1\" class=\"data row9 col1\" >0.097748</td>\n",
       "                        <td id=\"T_3623c_row9_col2\" class=\"data row9 col2\" >-0.484457</td>\n",
       "                        <td id=\"T_3623c_row9_col3\" class=\"data row9 col3\" >0.124860</td>\n",
       "                        <td id=\"T_3623c_row9_col4\" class=\"data row9 col4\" >0.326037</td>\n",
       "                        <td id=\"T_3623c_row9_col5\" class=\"data row9 col5\" >-0.007070</td>\n",
       "                        <td id=\"T_3623c_row9_col6\" class=\"data row9 col6\" >-0.496495</td>\n",
       "                        <td id=\"T_3623c_row9_col7\" class=\"data row9 col7\" >0.114571</td>\n",
       "                        <td id=\"T_3623c_row9_col8\" class=\"data row9 col8\" >-0.246701</td>\n",
       "                        <td id=\"T_3623c_row9_col9\" class=\"data row9 col9\" >1.000000</td>\n",
       "            </tr>\n",
       "    </tbody></table>"
      ],
      "text/plain": [
       "<pandas.io.formats.style.Styler at 0x7f368d74a610>"
      ]
     },
     "execution_count": 14,
     "metadata": {},
     "output_type": "execute_result"
    }
   ],
   "source": [
    "corr_metrics.style.background_gradient()"
   ]
  },
  {
   "cell_type": "code",
   "execution_count": null,
   "metadata": {},
   "outputs": [],
   "source": []
  },
  {
   "cell_type": "code",
   "execution_count": 15,
   "metadata": {},
   "outputs": [],
   "source": [
    "from sklearn.preprocessing import StandardScaler"
   ]
  },
  {
   "cell_type": "code",
   "execution_count": 16,
   "metadata": {},
   "outputs": [],
   "source": [
    "scaler = StandardScaler()\n"
   ]
  },
  {
   "cell_type": "code",
   "execution_count": 17,
   "metadata": {},
   "outputs": [],
   "source": [
    "\n",
    "features = echo_tracks.drop([\"genre_top\",\"track_id\"], axis=1)\n",
    "\n",
    "\n",
    "labels = echo_tracks[\"genre_top\"]\n",
    "\n",
    "\n",
    "from sklearn.preprocessing import StandardScaler\n",
    "\n",
    "\n",
    "scaler = StandardScaler()\n",
    "scaled_train_features = scaler.fit_transform(features)\n",
    "\n"
   ]
  },
  {
   "cell_type": "code",
   "execution_count": 18,
   "metadata": {},
   "outputs": [
    {
     "data": {
      "text/plain": [
       "array([-0.19121034,  1.30442004,  0.03831594, -1.57649422, -0.06875487,\n",
       "        0.37303429,  1.15397908,  0.46228696])"
      ]
     },
     "execution_count": 18,
     "metadata": {},
     "output_type": "execute_result"
    }
   ],
   "source": [
    "scaled_train_features[0] "
   ]
  },
  {
   "cell_type": "code",
   "execution_count": 19,
   "metadata": {},
   "outputs": [
    {
     "data": {
      "text/html": [
       "<div>\n",
       "<style scoped>\n",
       "    .dataframe tbody tr th:only-of-type {\n",
       "        vertical-align: middle;\n",
       "    }\n",
       "\n",
       "    .dataframe tbody tr th {\n",
       "        vertical-align: top;\n",
       "    }\n",
       "\n",
       "    .dataframe thead th {\n",
       "        text-align: right;\n",
       "    }\n",
       "</style>\n",
       "<table border=\"1\" class=\"dataframe\">\n",
       "  <thead>\n",
       "    <tr style=\"text-align: right;\">\n",
       "      <th></th>\n",
       "      <th>0</th>\n",
       "      <th>1</th>\n",
       "      <th>2</th>\n",
       "      <th>3</th>\n",
       "      <th>4</th>\n",
       "      <th>5</th>\n",
       "      <th>6</th>\n",
       "      <th>7</th>\n",
       "    </tr>\n",
       "  </thead>\n",
       "  <tbody>\n",
       "    <tr>\n",
       "      <th>0</th>\n",
       "      <td>-0.191210</td>\n",
       "      <td>1.304420</td>\n",
       "      <td>0.038316</td>\n",
       "      <td>-1.576494</td>\n",
       "      <td>-0.068755</td>\n",
       "      <td>0.373034</td>\n",
       "      <td>1.153979</td>\n",
       "      <td>0.462287</td>\n",
       "    </tr>\n",
       "    <tr>\n",
       "      <th>1</th>\n",
       "      <td>-0.306036</td>\n",
       "      <td>0.501886</td>\n",
       "      <td>0.788176</td>\n",
       "      <td>-1.599809</td>\n",
       "      <td>-0.545463</td>\n",
       "      <td>2.446155</td>\n",
       "      <td>0.007914</td>\n",
       "      <td>-0.690811</td>\n",
       "    </tr>\n",
       "    <tr>\n",
       "      <th>2</th>\n",
       "      <td>-1.204813</td>\n",
       "      <td>1.684139</td>\n",
       "      <td>0.312852</td>\n",
       "      <td>-1.602876</td>\n",
       "      <td>1.229828</td>\n",
       "      <td>0.135130</td>\n",
       "      <td>-0.777317</td>\n",
       "      <td>0.631077</td>\n",
       "    </tr>\n",
       "    <tr>\n",
       "      <th>3</th>\n",
       "      <td>-0.094655</td>\n",
       "      <td>0.417927</td>\n",
       "      <td>-0.265203</td>\n",
       "      <td>-1.553079</td>\n",
       "      <td>-0.607326</td>\n",
       "      <td>2.882707</td>\n",
       "      <td>-0.364657</td>\n",
       "      <td>1.652859</td>\n",
       "    </tr>\n",
       "    <tr>\n",
       "      <th>4</th>\n",
       "      <td>1.361706</td>\n",
       "      <td>-0.985896</td>\n",
       "      <td>1.453323</td>\n",
       "      <td>0.979975</td>\n",
       "      <td>-0.442757</td>\n",
       "      <td>-0.364157</td>\n",
       "      <td>-1.072003</td>\n",
       "      <td>-1.573102</td>\n",
       "    </tr>\n",
       "  </tbody>\n",
       "</table>\n",
       "</div>"
      ],
      "text/plain": [
       "          0         1         2         3         4         5         6  \\\n",
       "0 -0.191210  1.304420  0.038316 -1.576494 -0.068755  0.373034  1.153979   \n",
       "1 -0.306036  0.501886  0.788176 -1.599809 -0.545463  2.446155  0.007914   \n",
       "2 -1.204813  1.684139  0.312852 -1.602876  1.229828  0.135130 -0.777317   \n",
       "3 -0.094655  0.417927 -0.265203 -1.553079 -0.607326  2.882707 -0.364657   \n",
       "4  1.361706 -0.985896  1.453323  0.979975 -0.442757 -0.364157 -1.072003   \n",
       "\n",
       "          7  \n",
       "0  0.462287  \n",
       "1 -0.690811  \n",
       "2  0.631077  \n",
       "3  1.652859  \n",
       "4 -1.573102  "
      ]
     },
     "execution_count": 19,
     "metadata": {},
     "output_type": "execute_result"
    }
   ],
   "source": [
    "pd.DataFrame(scaled_train_features).head(5)\n"
   ]
  },
  {
   "cell_type": "code",
   "execution_count": 20,
   "metadata": {},
   "outputs": [],
   "source": [
    "import matplotlib.pyplot as plt"
   ]
  },
  {
   "cell_type": "code",
   "execution_count": 21,
   "metadata": {},
   "outputs": [],
   "source": [
    "from sklearn.decomposition import PCA"
   ]
  },
  {
   "cell_type": "code",
   "execution_count": 22,
   "metadata": {},
   "outputs": [],
   "source": [
    "pca = PCA()"
   ]
  },
  {
   "cell_type": "code",
   "execution_count": 23,
   "metadata": {},
   "outputs": [
    {
     "data": {
      "text/plain": [
       "PCA()"
      ]
     },
     "execution_count": 23,
     "metadata": {},
     "output_type": "execute_result"
    }
   ],
   "source": [
    "pca.fit(scaled_train_features)\n"
   ]
  },
  {
   "cell_type": "code",
   "execution_count": 24,
   "metadata": {},
   "outputs": [
    {
     "data": {
      "text/plain": [
       "array([[-0.19121034,  1.30442004,  0.03831594, ...,  0.37303429,\n",
       "         1.15397908,  0.46228696],\n",
       "       [-0.30603598,  0.50188641,  0.78817624, ...,  2.44615517,\n",
       "         0.00791367, -0.69081137],\n",
       "       [-1.20481276,  1.68413943,  0.31285194, ...,  0.13513049,\n",
       "        -0.77731688,  0.63107745],\n",
       "       ...,\n",
       "       [-1.29470431,  1.17682795,  0.13265633, ...,  0.85182206,\n",
       "        -0.93541008, -0.07941825],\n",
       "       [-1.13869115, -0.02253433,  0.57117905, ...,  1.40951543,\n",
       "         1.31301348,  0.47513794],\n",
       "       [-0.90611434,  1.10148973,  0.56322452, ...,  1.36030881,\n",
       "        -1.43669053,  0.76217464]])"
      ]
     },
     "execution_count": 24,
     "metadata": {},
     "output_type": "execute_result"
    }
   ],
   "source": [
    "scaled_train_features"
   ]
  },
  {
   "cell_type": "code",
   "execution_count": 25,
   "metadata": {},
   "outputs": [],
   "source": [
    "exp_variance = pca.explained_variance_ratio_"
   ]
  },
  {
   "cell_type": "code",
   "execution_count": 26,
   "metadata": {},
   "outputs": [
    {
     "data": {
      "text/plain": [
       "array([0.24297674, 0.18044316, 0.13650309, 0.12994089, 0.11056248,\n",
       "       0.08302245, 0.06923783, 0.04731336])"
      ]
     },
     "execution_count": 26,
     "metadata": {},
     "output_type": "execute_result"
    }
   ],
   "source": [
    "exp_variance"
   ]
  },
  {
   "cell_type": "code",
   "execution_count": 27,
   "metadata": {},
   "outputs": [
    {
     "name": "stdout",
     "output_type": "stream",
     "text": [
      "Explained variance ratio : \n",
      "[0.24297674 0.18044316 0.13650309 0.12994089 0.11056248 0.08302245\n",
      " 0.06923783 0.04731336]\n",
      "\n",
      "\n",
      "Number of components = 8\n"
     ]
    }
   ],
   "source": [
    "print(\"Explained variance ratio : \\n{}\".format(pca.explained_variance_ratio_))\n",
    "print(\"\\n\")\n",
    "print(\"Number of components = {}\".format(pca.n_components_)) "
   ]
  },
  {
   "cell_type": "code",
   "execution_count": 28,
   "metadata": {},
   "outputs": [
    {
     "data": {
      "text/plain": [
       "Text(0, 0.5, 'Variance #')"
      ]
     },
     "execution_count": 28,
     "metadata": {},
     "output_type": "execute_result"
    },
    {
     "data": {
      "image/png": "[encoded data removed]",
      "text/plain": [
       "<Figure size 432x288 with 1 Axes>"
      ]
     },
     "metadata": {
      "needs_background": "light"
     },
     "output_type": "display_data"
    }
   ],
   "source": [
    "fig, ax = plt.subplots()\n",
    "ax.bar(range(8), exp_variance)\n",
    "ax.set_xlabel('Principal Component #')\n",
    "ax.set_ylabel('Variance #')"
   ]
  },
  {
   "cell_type": "code",
   "execution_count": 29,
   "metadata": {},
   "outputs": [],
   "source": [
    "cum_exp_variance = np.cumsum(exp_variance)\n"
   ]
  },
  {
   "cell_type": "code",
   "execution_count": 30,
   "metadata": {},
   "outputs": [
    {
     "data": {
      "text/plain": [
       "array([0.24297674, 0.4234199 , 0.55992299, 0.68986388, 0.80042636,\n",
       "       0.88344881, 0.95268664, 1.        ])"
      ]
     },
     "execution_count": 30,
     "metadata": {},
     "output_type": "execute_result"
    }
   ],
   "source": [
    "cum_exp_variance  # a, a+b, a+b+c, .... "
   ]
  },
  {
   "cell_type": "code",
   "execution_count": 31,
   "metadata": {},
   "outputs": [
    {
     "data": {
      "text/plain": [
       "array([0.24297674, 0.18044316, 0.13650309, 0.12994089, 0.11056248,\n",
       "       0.08302245, 0.06923783, 0.04731336])"
      ]
     },
     "execution_count": 31,
     "metadata": {},
     "output_type": "execute_result"
    }
   ],
   "source": [
    "exp_variance"
   ]
  },
  {
   "cell_type": "code",
   "execution_count": 32,
   "metadata": {},
   "outputs": [
    {
     "data": {
      "image/png": "[encoded data removed]",
      "text/plain": [
       "<Figure size 432x288 with 1 Axes>"
      ]
     },
     "metadata": {
      "needs_background": "light"
     },
     "output_type": "display_data"
    }
   ],
   "source": [
    "fig, ax = plt.subplots()\n",
    "ax.plot(range(8), cum_exp_variance)\n",
    "ax.axhline(y=0.9, linestyle='--')\n",
    "n_components = 6"
   ]
  },
  {
   "cell_type": "code",
   "execution_count": 33,
   "metadata": {},
   "outputs": [],
   "source": [
    "pca = PCA(n_components, random_state=10)"
   ]
  },
  {
   "cell_type": "code",
   "execution_count": 34,
   "metadata": {},
   "outputs": [
    {
     "data": {
      "text/plain": [
       "PCA(n_components=6, random_state=10)"
      ]
     },
     "execution_count": 34,
     "metadata": {},
     "output_type": "execute_result"
    }
   ],
   "source": [
    "pca.fit(scaled_train_features)"
   ]
  },
  {
   "cell_type": "code",
   "execution_count": 35,
   "metadata": {},
   "outputs": [],
   "source": [
    "pca_projection = pca.transform(scaled_train_features)\n"
   ]
  },
  {
   "cell_type": "code",
   "execution_count": 36,
   "metadata": {},
   "outputs": [
    {
     "data": {
      "text/plain": [
       "array([[ 1.59666656,  1.0500117 , -0.01778555,  0.73142514, -0.36832686,\n",
       "        -0.71505324],\n",
       "       [ 1.58153526,  1.07661327,  1.04346038,  0.16929959, -1.81917099,\n",
       "         1.3884574 ],\n",
       "       [ 2.01545627,  1.4085176 ,  0.24506524, -1.53545814,  0.62769959,\n",
       "        -0.45716338],\n",
       "       ...,\n",
       "       [ 1.66908628,  1.84010121,  2.38294303, -2.12871589,  1.23664547,\n",
       "        -0.63277253],\n",
       "       [ 1.17001951,  2.03158181,  0.08689922,  0.88396123, -1.45765649,\n",
       "        -0.03590123],\n",
       "       [ 2.36368976,  1.15900708,  0.4473735 , -1.35198128, -0.03592518,\n",
       "         0.82678557]])"
      ]
     },
     "execution_count": 36,
     "metadata": {},
     "output_type": "execute_result"
    }
   ],
   "source": [
    "pca_projection"
   ]
  },
  {
   "cell_type": "code",
   "execution_count": 37,
   "metadata": {},
   "outputs": [],
   "source": [
    "from sklearn.metrics import classification_report"
   ]
  },
  {
   "cell_type": "code",
   "execution_count": 38,
   "metadata": {},
   "outputs": [],
   "source": [
    "train_features, test_features, train_labels, test_labels =train_test_split(pca_projection,labels,random_state=10)"
   ]
  },
  {
   "cell_type": "code",
   "execution_count": 39,
   "metadata": {},
   "outputs": [
    {
     "data": {
      "text/plain": [
       "array([[-0.95266429, -0.992442  ,  1.71990072,  2.03935977, -2.12491957,\n",
       "        -2.55889544],\n",
       "       [-1.15095721,  0.80694253, -0.13890926, -1.34949295, -0.78328003,\n",
       "         0.23619909],\n",
       "       [ 1.4912024 ,  1.42512003, -0.74164056, -1.35612061,  0.01375132,\n",
       "         0.0477835 ],\n",
       "       ...,\n",
       "       [-0.28608581, -0.28381699,  0.27840407, -0.83244213, -0.67926142,\n",
       "         1.3855388 ],\n",
       "       [-0.75616999,  1.26969101, -0.1924908 , -0.0593008 ,  0.42914997,\n",
       "         0.09076763],\n",
       "       [-2.26885604, -0.18210011,  0.17527316,  1.40597346, -0.68577802,\n",
       "         0.37850736]])"
      ]
     },
     "execution_count": 39,
     "metadata": {},
     "output_type": "execute_result"
    }
   ],
   "source": [
    "train_features"
   ]
  },
  {
   "cell_type": "code",
   "execution_count": 40,
   "metadata": {},
   "outputs": [
    {
     "data": {
      "text/plain": [
       "array([[-0.7477066 , -2.08675416,  0.14799794, -0.18019823, -0.71252595,\n",
       "        -0.70827976],\n",
       "       [ 0.59396631, -0.36368836, -0.30630092, -0.72917289, -1.48399338,\n",
       "        -1.33585952],\n",
       "       [ 0.6988582 , -0.44564535,  1.78672357, -0.06545469,  3.7927897 ,\n",
       "        -1.57662965],\n",
       "       ...,\n",
       "       [ 1.40652453,  1.6032231 , -0.89797134, -1.48262097,  0.19919263,\n",
       "         0.09724914],\n",
       "       [ 1.85209206,  0.29157366, -0.76340374, -1.67324775, -0.13528404,\n",
       "        -0.90699355],\n",
       "       [-0.24549884,  0.45866346, -1.49281207, -0.27173251,  0.2922904 ,\n",
       "         0.2711684 ]])"
      ]
     },
     "execution_count": 40,
     "metadata": {},
     "output_type": "execute_result"
    }
   ],
   "source": [
    "test_features"
   ]
  },
  {
   "cell_type": "code",
   "execution_count": 41,
   "metadata": {},
   "outputs": [
    {
     "data": {
      "text/plain": [
       "992     1\n",
       "4537    1\n",
       "1731    0\n",
       "19      1\n",
       "3096    1\n",
       "       ..\n",
       "1180    1\n",
       "3441    1\n",
       "1344    1\n",
       "4623    1\n",
       "1289    1\n",
       "Name: genre_top, Length: 3601, dtype: int64"
      ]
     },
     "execution_count": 41,
     "metadata": {},
     "output_type": "execute_result"
    }
   ],
   "source": [
    "train_labels"
   ]
  },
  {
   "cell_type": "code",
   "execution_count": 42,
   "metadata": {},
   "outputs": [
    {
     "data": {
      "text/plain": [
       "484     1\n",
       "4444    1\n",
       "1766    1\n",
       "4756    1\n",
       "4044    1\n",
       "       ..\n",
       "936     1\n",
       "3446    1\n",
       "4323    1\n",
       "4546    1\n",
       "3756    1\n",
       "Name: genre_top, Length: 1201, dtype: int64"
      ]
     },
     "execution_count": 42,
     "metadata": {},
     "output_type": "execute_result"
    }
   ],
   "source": [
    "test_labels"
   ]
  },
  {
   "cell_type": "code",
   "execution_count": 43,
   "metadata": {},
   "outputs": [],
   "source": [
    "tree = DecisionTreeClassifier(random_state=10)"
   ]
  },
  {
   "cell_type": "code",
   "execution_count": 44,
   "metadata": {},
   "outputs": [
    {
     "data": {
      "text/plain": [
       "DecisionTreeClassifier(random_state=10)"
      ]
     },
     "execution_count": 44,
     "metadata": {},
     "output_type": "execute_result"
    }
   ],
   "source": [
    "tree.fit(train_features, train_labels)"
   ]
  },
  {
   "cell_type": "code",
   "execution_count": 45,
   "metadata": {},
   "outputs": [],
   "source": [
    "pred_labels_tree = tree.predict(test_features)\n"
   ]
  },
  {
   "cell_type": "code",
   "execution_count": 46,
   "metadata": {},
   "outputs": [
    {
     "data": {
      "text/plain": [
       "0.8434637801831807"
      ]
     },
     "execution_count": 46,
     "metadata": {},
     "output_type": "execute_result"
    }
   ],
   "source": [
    "accuracy_score(y_true = test_labels,y_pred = pred_labels_tree)"
   ]
  },
  {
   "cell_type": "markdown",
   "metadata": {},
   "source": [
    "# Logical Regression"
   ]
  },
  {
   "cell_type": "code",
   "execution_count": 47,
   "metadata": {},
   "outputs": [],
   "source": [
    "from sklearn.linear_model import LogisticRegression"
   ]
  },
  {
   "cell_type": "code",
   "execution_count": 48,
   "metadata": {},
   "outputs": [],
   "source": [
    "logreg = LogisticRegression(random_state = 10)"
   ]
  },
  {
   "cell_type": "code",
   "execution_count": 49,
   "metadata": {},
   "outputs": [
    {
     "data": {
      "text/plain": [
       "LogisticRegression(random_state=10)"
      ]
     },
     "execution_count": 49,
     "metadata": {},
     "output_type": "execute_result"
    }
   ],
   "source": [
    "logreg.fit(train_features, train_labels)"
   ]
  },
  {
   "cell_type": "code",
   "execution_count": 50,
   "metadata": {},
   "outputs": [],
   "source": [
    "pred_labels_logit = logreg.predict(test_features)"
   ]
  },
  {
   "cell_type": "code",
   "execution_count": 51,
   "metadata": {},
   "outputs": [],
   "source": [
    "class_rep_tree = classification_report(test_labels, pred_labels_tree)\n",
    "class_rep_log = classification_report(test_labels, pred_labels_logit)"
   ]
  },
  {
   "cell_type": "code",
   "execution_count": 52,
   "metadata": {},
   "outputs": [
    {
     "name": "stdout",
     "output_type": "stream",
     "text": [
      "Decision Tree: \n",
      "               precision    recall  f1-score   support\n",
      "\n",
      "           0       0.60      0.60      0.60       235\n",
      "           1       0.90      0.90      0.90       966\n",
      "\n",
      "    accuracy                           0.84      1201\n",
      "   macro avg       0.75      0.75      0.75      1201\n",
      "weighted avg       0.84      0.84      0.84      1201\n",
      "\n",
      "Logistic Regression: \n",
      "               precision    recall  f1-score   support\n",
      "\n",
      "           0       0.77      0.54      0.64       235\n",
      "           1       0.90      0.96      0.93       966\n",
      "\n",
      "    accuracy                           0.88      1201\n",
      "   macro avg       0.83      0.75      0.78      1201\n",
      "weighted avg       0.87      0.88      0.87      1201\n",
      "\n"
     ]
    }
   ],
   "source": [
    "print(\"Decision Tree: \\n\", class_rep_tree)\n",
    "print(\"Logistic Regression: \\n\", class_rep_log)\n",
    "# Let's compare both models "
   ]
  },
  {
   "cell_type": "markdown",
   "metadata": {},
   "source": [
    "# Comparing Accuracy score "
   ]
  },
  {
   "cell_type": "code",
   "execution_count": 53,
   "metadata": {},
   "outputs": [
    {
     "data": {
      "text/plain": [
       "0.8434637801831807"
      ]
     },
     "execution_count": 53,
     "metadata": {},
     "output_type": "execute_result"
    }
   ],
   "source": [
    "accuracy_score(test_labels , pred_labels_tree)"
   ]
  },
  {
   "cell_type": "code",
   "execution_count": 54,
   "metadata": {},
   "outputs": [
    {
     "data": {
      "text/plain": [
       "0.8784346378018318"
      ]
     },
     "execution_count": 54,
     "metadata": {},
     "output_type": "execute_result"
    }
   ],
   "source": [
    "accuracy_score(test_labels , pred_labels_logit)"
   ]
  },
  {
   "cell_type": "markdown",
   "metadata": {},
   "source": [
    "# Checking shape of data "
   ]
  },
  {
   "cell_type": "code",
   "execution_count": 55,
   "metadata": {},
   "outputs": [],
   "source": [
    "hop_only = echo_tracks.loc[echo_tracks['genre_top'] == 0]\n",
    "rock_only = echo_tracks.loc[echo_tracks['genre_top'] == 1]"
   ]
  },
  {
   "cell_type": "code",
   "execution_count": 56,
   "metadata": {},
   "outputs": [
    {
     "data": {
      "text/plain": [
       "(910, 10)"
      ]
     },
     "execution_count": 56,
     "metadata": {},
     "output_type": "execute_result"
    }
   ],
   "source": [
    "hop_only.shape"
   ]
  },
  {
   "cell_type": "code",
   "execution_count": 57,
   "metadata": {},
   "outputs": [
    {
     "data": {
      "text/plain": [
       "(3892, 10)"
      ]
     },
     "execution_count": 57,
     "metadata": {},
     "output_type": "execute_result"
    }
   ],
   "source": [
    "rock_only.shape"
   ]
  },
  {
   "cell_type": "code",
   "execution_count": 58,
   "metadata": {},
   "outputs": [],
   "source": [
    "rock_only = rock_only.sample(n= hop_only.shape[0])"
   ]
  },
  {
   "cell_type": "markdown",
   "metadata": {},
   "source": [
    "# Neutralised shape "
   ]
  },
  {
   "cell_type": "code",
   "execution_count": 59,
   "metadata": {},
   "outputs": [
    {
     "data": {
      "text/plain": [
       "((910, 10), (910, 10))"
      ]
     },
     "execution_count": 59,
     "metadata": {},
     "output_type": "execute_result"
    }
   ],
   "source": [
    "rock_only.shape, hop_only.shape"
   ]
  },
  {
   "cell_type": "markdown",
   "metadata": {},
   "source": [
    "### Combining data"
   ]
  },
  {
   "cell_type": "code",
   "execution_count": 60,
   "metadata": {},
   "outputs": [],
   "source": [
    "rock_hop_bal = pd.concat([rock_only, hop_only])"
   ]
  },
  {
   "cell_type": "code",
   "execution_count": 61,
   "metadata": {},
   "outputs": [
    {
     "data": {
      "text/html": [
       "<div>\n",
       "<style scoped>\n",
       "    .dataframe tbody tr th:only-of-type {\n",
       "        vertical-align: middle;\n",
       "    }\n",
       "\n",
       "    .dataframe tbody tr th {\n",
       "        vertical-align: top;\n",
       "    }\n",
       "\n",
       "    .dataframe thead th {\n",
       "        text-align: right;\n",
       "    }\n",
       "</style>\n",
       "<table border=\"1\" class=\"dataframe\">\n",
       "  <thead>\n",
       "    <tr style=\"text-align: right;\">\n",
       "      <th></th>\n",
       "      <th>track_id</th>\n",
       "      <th>acousticness</th>\n",
       "      <th>danceability</th>\n",
       "      <th>energy</th>\n",
       "      <th>instrumentalness</th>\n",
       "      <th>liveness</th>\n",
       "      <th>speechiness</th>\n",
       "      <th>tempo</th>\n",
       "      <th>valence</th>\n",
       "      <th>genre_top</th>\n",
       "    </tr>\n",
       "  </thead>\n",
       "  <tbody>\n",
       "    <tr>\n",
       "      <th>2264</th>\n",
       "      <td>19470</td>\n",
       "      <td>0.192928</td>\n",
       "      <td>0.353545</td>\n",
       "      <td>0.584606</td>\n",
       "      <td>8.532001e-01</td>\n",
       "      <td>0.113851</td>\n",
       "      <td>0.035297</td>\n",
       "      <td>130.500</td>\n",
       "      <td>0.417271</td>\n",
       "      <td>1</td>\n",
       "    </tr>\n",
       "    <tr>\n",
       "      <th>103</th>\n",
       "      <td>562</td>\n",
       "      <td>0.173623</td>\n",
       "      <td>0.463297</td>\n",
       "      <td>0.077654</td>\n",
       "      <td>9.374432e-01</td>\n",
       "      <td>0.103643</td>\n",
       "      <td>0.031336</td>\n",
       "      <td>130.277</td>\n",
       "      <td>0.436666</td>\n",
       "      <td>1</td>\n",
       "    </tr>\n",
       "    <tr>\n",
       "      <th>1273</th>\n",
       "      <td>8026</td>\n",
       "      <td>0.890101</td>\n",
       "      <td>0.403916</td>\n",
       "      <td>0.799648</td>\n",
       "      <td>4.547035e-01</td>\n",
       "      <td>0.155512</td>\n",
       "      <td>0.040628</td>\n",
       "      <td>128.772</td>\n",
       "      <td>0.571595</td>\n",
       "      <td>1</td>\n",
       "    </tr>\n",
       "    <tr>\n",
       "      <th>3255</th>\n",
       "      <td>36745</td>\n",
       "      <td>0.003108</td>\n",
       "      <td>0.372899</td>\n",
       "      <td>0.980468</td>\n",
       "      <td>8.402730e-01</td>\n",
       "      <td>0.107552</td>\n",
       "      <td>0.059531</td>\n",
       "      <td>135.243</td>\n",
       "      <td>0.058928</td>\n",
       "      <td>1</td>\n",
       "    </tr>\n",
       "    <tr>\n",
       "      <th>3997</th>\n",
       "      <td>52215</td>\n",
       "      <td>0.009211</td>\n",
       "      <td>0.438584</td>\n",
       "      <td>0.675048</td>\n",
       "      <td>1.885771e-01</td>\n",
       "      <td>0.178077</td>\n",
       "      <td>0.036170</td>\n",
       "      <td>120.214</td>\n",
       "      <td>0.065673</td>\n",
       "      <td>1</td>\n",
       "    </tr>\n",
       "    <tr>\n",
       "      <th>...</th>\n",
       "      <td>...</td>\n",
       "      <td>...</td>\n",
       "      <td>...</td>\n",
       "      <td>...</td>\n",
       "      <td>...</td>\n",
       "      <td>...</td>\n",
       "      <td>...</td>\n",
       "      <td>...</td>\n",
       "      <td>...</td>\n",
       "      <td>...</td>\n",
       "    </tr>\n",
       "    <tr>\n",
       "      <th>4797</th>\n",
       "      <td>124718</td>\n",
       "      <td>0.412194</td>\n",
       "      <td>0.686825</td>\n",
       "      <td>0.849309</td>\n",
       "      <td>6.000000e-10</td>\n",
       "      <td>0.867543</td>\n",
       "      <td>0.367315</td>\n",
       "      <td>96.104</td>\n",
       "      <td>0.692414</td>\n",
       "      <td>0</td>\n",
       "    </tr>\n",
       "    <tr>\n",
       "      <th>4798</th>\n",
       "      <td>124719</td>\n",
       "      <td>0.054973</td>\n",
       "      <td>0.617535</td>\n",
       "      <td>0.728567</td>\n",
       "      <td>7.215700e-06</td>\n",
       "      <td>0.131438</td>\n",
       "      <td>0.243130</td>\n",
       "      <td>96.262</td>\n",
       "      <td>0.399720</td>\n",
       "      <td>0</td>\n",
       "    </tr>\n",
       "    <tr>\n",
       "      <th>4799</th>\n",
       "      <td>124720</td>\n",
       "      <td>0.010478</td>\n",
       "      <td>0.652483</td>\n",
       "      <td>0.657498</td>\n",
       "      <td>7.098000e-07</td>\n",
       "      <td>0.701523</td>\n",
       "      <td>0.229174</td>\n",
       "      <td>94.885</td>\n",
       "      <td>0.432240</td>\n",
       "      <td>0</td>\n",
       "    </tr>\n",
       "    <tr>\n",
       "      <th>4800</th>\n",
       "      <td>124721</td>\n",
       "      <td>0.067906</td>\n",
       "      <td>0.432421</td>\n",
       "      <td>0.764508</td>\n",
       "      <td>1.625500e-06</td>\n",
       "      <td>0.104412</td>\n",
       "      <td>0.310553</td>\n",
       "      <td>171.329</td>\n",
       "      <td>0.580087</td>\n",
       "      <td>0</td>\n",
       "    </tr>\n",
       "    <tr>\n",
       "      <th>4801</th>\n",
       "      <td>124722</td>\n",
       "      <td>0.153518</td>\n",
       "      <td>0.638660</td>\n",
       "      <td>0.762567</td>\n",
       "      <td>5.000000e-10</td>\n",
       "      <td>0.264847</td>\n",
       "      <td>0.303372</td>\n",
       "      <td>77.842</td>\n",
       "      <td>0.656612</td>\n",
       "      <td>0</td>\n",
       "    </tr>\n",
       "  </tbody>\n",
       "</table>\n",
       "<p>1820 rows × 10 columns</p>\n",
       "</div>"
      ],
      "text/plain": [
       "      track_id  acousticness  danceability    energy  instrumentalness  \\\n",
       "2264     19470      0.192928      0.353545  0.584606      8.532001e-01   \n",
       "103        562      0.173623      0.463297  0.077654      9.374432e-01   \n",
       "1273      8026      0.890101      0.403916  0.799648      4.547035e-01   \n",
       "3255     36745      0.003108      0.372899  0.980468      8.402730e-01   \n",
       "3997     52215      0.009211      0.438584  0.675048      1.885771e-01   \n",
       "...        ...           ...           ...       ...               ...   \n",
       "4797    124718      0.412194      0.686825  0.849309      6.000000e-10   \n",
       "4798    124719      0.054973      0.617535  0.728567      7.215700e-06   \n",
       "4799    124720      0.010478      0.652483  0.657498      7.098000e-07   \n",
       "4800    124721      0.067906      0.432421  0.764508      1.625500e-06   \n",
       "4801    124722      0.153518      0.638660  0.762567      5.000000e-10   \n",
       "\n",
       "      liveness  speechiness    tempo   valence  genre_top  \n",
       "2264  0.113851     0.035297  130.500  0.417271          1  \n",
       "103   0.103643     0.031336  130.277  0.436666          1  \n",
       "1273  0.155512     0.040628  128.772  0.571595          1  \n",
       "3255  0.107552     0.059531  135.243  0.058928          1  \n",
       "3997  0.178077     0.036170  120.214  0.065673          1  \n",
       "...        ...          ...      ...       ...        ...  \n",
       "4797  0.867543     0.367315   96.104  0.692414          0  \n",
       "4798  0.131438     0.243130   96.262  0.399720          0  \n",
       "4799  0.701523     0.229174   94.885  0.432240          0  \n",
       "4800  0.104412     0.310553  171.329  0.580087          0  \n",
       "4801  0.264847     0.303372   77.842  0.656612          0  \n",
       "\n",
       "[1820 rows x 10 columns]"
      ]
     },
     "execution_count": 61,
     "metadata": {},
     "output_type": "execute_result"
    }
   ],
   "source": [
    "rock_hop_bal"
   ]
  },
  {
   "cell_type": "code",
   "execution_count": 62,
   "metadata": {},
   "outputs": [],
   "source": [
    "features = rock_hop_bal.drop(['genre_top', 'track_id'],axis =1)"
   ]
  },
  {
   "cell_type": "code",
   "execution_count": 63,
   "metadata": {},
   "outputs": [],
   "source": [
    "labels = rock_hop_bal['genre_top']"
   ]
  },
  {
   "cell_type": "code",
   "execution_count": 64,
   "metadata": {},
   "outputs": [],
   "source": [
    "pca_projection = pca.fit_transform(scaler.fit_transform(features))"
   ]
  },
  {
   "cell_type": "code",
   "execution_count": 65,
   "metadata": {},
   "outputs": [],
   "source": [
    "train_features, test_features, train_labels, test_labels = train_test_split(pca_projection,labels,stratify = labels,\n",
    "                                                                                                             random_state=10)"
   ]
  },
  {
   "cell_type": "code",
   "execution_count": 66,
   "metadata": {},
   "outputs": [],
   "source": [
    "# decision tree BALANCED\n",
    "tree = DecisionTreeClassifier(random_state=10)\n",
    "tree.fit(train_features, train_labels)\n",
    "pred_labels_tree = tree.predict(test_features)"
   ]
  },
  {
   "cell_type": "code",
   "execution_count": 67,
   "metadata": {},
   "outputs": [
    {
     "data": {
      "text/plain": [
       "0.8"
      ]
     },
     "execution_count": 67,
     "metadata": {},
     "output_type": "execute_result"
    }
   ],
   "source": [
    "accuracy_score(test_labels,pred_labels_tree) #accuracy drops after balancing "
   ]
  },
  {
   "cell_type": "code",
   "execution_count": 68,
   "metadata": {},
   "outputs": [],
   "source": [
    "# Logistic regression BALANCED\n",
    "logreg = LogisticRegression(random_state = 10)\n",
    "logreg.fit(train_features, train_labels)\n",
    "pred_labels_logit = logreg.predict(test_features)"
   ]
  },
  {
   "cell_type": "code",
   "execution_count": 69,
   "metadata": {},
   "outputs": [
    {
     "data": {
      "text/plain": [
       "0.8197802197802198"
      ]
     },
     "execution_count": 69,
     "metadata": {},
     "output_type": "execute_result"
    }
   ],
   "source": [
    "accuracy_score(test_labels,pred_labels_logit) #accuracy drops after balancing "
   ]
  },
  {
   "cell_type": "markdown",
   "metadata": {},
   "source": [
    "# Report "
   ]
  },
  {
   "cell_type": "code",
   "execution_count": 70,
   "metadata": {},
   "outputs": [
    {
     "name": "stdout",
     "output_type": "stream",
     "text": [
      "Decision Tree: \n",
      "               precision    recall  f1-score   support\n",
      "\n",
      "           0       0.80      0.79      0.80       227\n",
      "           1       0.80      0.81      0.80       228\n",
      "\n",
      "    accuracy                           0.80       455\n",
      "   macro avg       0.80      0.80      0.80       455\n",
      "weighted avg       0.80      0.80      0.80       455\n",
      "\n",
      "Logistic Regression: \n",
      "               precision    recall  f1-score   support\n",
      "\n",
      "           0       0.83      0.80      0.82       227\n",
      "           1       0.81      0.84      0.82       228\n",
      "\n",
      "    accuracy                           0.82       455\n",
      "   macro avg       0.82      0.82      0.82       455\n",
      "weighted avg       0.82      0.82      0.82       455\n",
      "\n"
     ]
    }
   ],
   "source": [
    "print(\"Decision Tree: \\n\", classification_report(test_labels, pred_labels_tree))\n",
    "print(\"Logistic Regression: \\n\", classification_report(test_labels, pred_labels_logit))"
   ]
  },
  {
   "cell_type": "markdown",
   "metadata": {},
   "source": [
    "###### By balancing data we are getting about same accuracy for rock and hip-poop"
   ]
  },
  {
   "cell_type": "markdown",
   "metadata": {},
   "source": [
    "#  Cross-validation"
   ]
  },
  {
   "cell_type": "code",
   "execution_count": 71,
   "metadata": {},
   "outputs": [],
   "source": [
    "from sklearn.model_selection import KFold, cross_val_score\n"
   ]
  },
  {
   "cell_type": "code",
   "execution_count": 72,
   "metadata": {},
   "outputs": [],
   "source": [
    "kf = KFold(n_splits=15)"
   ]
  },
  {
   "cell_type": "code",
   "execution_count": 73,
   "metadata": {},
   "outputs": [],
   "source": [
    "tree = DecisionTreeClassifier(random_state=10)\n",
    "logreg = LogisticRegression(random_state=10)"
   ]
  },
  {
   "cell_type": "code",
   "execution_count": 74,
   "metadata": {},
   "outputs": [],
   "source": [
    "tree_score = cross_val_score(tree, pca_projection, labels, cv = kf)\n",
    "logit_score = cross_val_score(logreg, pca_projection, labels, cv = kf)"
   ]
  },
  {
   "cell_type": "code",
   "execution_count": 75,
   "metadata": {},
   "outputs": [
    {
     "name": "stdout",
     "output_type": "stream",
     "text": [
      "Decision Tree: 0.764345391320056 Logistic Regression: 0.8115702479338843\n"
     ]
    }
   ],
   "source": [
    "print(\"Decision Tree:\", np.mean(tree_score), \"Logistic Regression:\", np.mean(logit_score))"
   ]
  },
  {
   "cell_type": "markdown",
   "metadata": {},
   "source": [
    "#### As we can see we got highest accuracy in Logistic regression model "
   ]
  },
  {
   "cell_type": "markdown",
   "metadata": {},
   "source": [
    "# THANK YOU"
   ]
  }
 ],
 "metadata": {
  "kernelspec": {
   "display_name": "Python 3",
   "language": "python",
   "name": "python3"
  },
  "language_info": {
   "codemirror_mode": {
    "name": "ipython",
    "version": 3
   },
   "file_extension": ".py",
   "mimetype": "text/x-python",
   "name": "python",
   "nbconvert_exporter": "python",
   "pygments_lexer": "ipython3",
   "version": "3.8.5"
  }
 },
 "nbformat": 4,
 "nbformat_minor": 4
}
